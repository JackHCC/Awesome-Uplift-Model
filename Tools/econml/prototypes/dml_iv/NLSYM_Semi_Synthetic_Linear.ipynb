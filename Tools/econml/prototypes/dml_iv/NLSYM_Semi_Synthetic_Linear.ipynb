{
    "cells": [
        {
            "cell_type": "code",
            "execution_count": 1,
            "metadata": {
                "collapsed": true
            },
            "outputs": [],
            "source": [
                "%load_ext autoreload\n",
                "%autoreload 2"
            ]
        },
        {
            "cell_type": "code",
            "execution_count": 2,
            "metadata": {
                "collapsed": true
            },
            "outputs": [],
            "source": [
                "import numpy as np\n",
                "import pandas as pd\n",
                "import matplotlib.pyplot as plt\n",
                "from sklearn.linear_model import LinearRegression, Lasso, LogisticRegression\n",
                "from sklearn.ensemble import GradientBoostingRegressor, GradientBoostingClassifier\n",
                "from sklearn.ensemble import RandomForestRegressor, RandomForestClassifier\n",
                "from sklearn.preprocessing import PolynomialFeatures, StandardScaler\n",
                "from sklearn.pipeline import Pipeline\n",
                "import scipy.special"
            ]
        },
        {
            "cell_type": "markdown",
            "metadata": {},
            "source": [
                "# NLSYM DATA"
            ]
        },
        {
            "cell_type": "code",
            "execution_count": 3,
            "metadata": {},
            "outputs": [
                {
                    "name": "stderr",
                    "output_type": "stream",
                    "text": [
                        "C:\\ProgramData\\Anaconda3\\lib\\site-packages\\sklearn\\preprocessing\\data.py:645: DataConversionWarning: Data with input dtype int64, float64 were all converted to float64 by StandardScaler.\n",
                        "  return self.partial_fit(X, y)\n",
                        "C:\\ProgramData\\Anaconda3\\lib\\site-packages\\sklearn\\base.py:464: DataConversionWarning: Data with input dtype int64, float64 were all converted to float64 by StandardScaler.\n",
                        "  return self.fit(X, **fit_params).transform(X)\n"
                    ]
                }
            ],
            "source": [
                "# Preprocess data\n",
                "df = pd.read_csv(\"data/card.csv\")\n",
                "data_filter = df['educ'].values >= 6\n",
                "T = df['educ'].values[data_filter]\n",
                "Z = df['nearc4'].values[data_filter]\n",
                "y = df['lwage'].values[data_filter]\n",
                "\n",
                "# Impute missing values with mean, add dummy columns\n",
                "# I excluded the columns 'weights' as we don't know what it is\n",
                "X_df = df[['exper', 'expersq']].copy()\n",
                "X_df['fatheduc'] = df['fatheduc'].fillna(value=df['fatheduc'].mean())\n",
                "X_df['fatheduc_nan'] = df['fatheduc'].isnull()*1\n",
                "X_df['motheduc'] = df['motheduc'].fillna(value=df['motheduc'].mean())\n",
                "X_df['motheduc_nan'] = df['motheduc'].isnull()*1\n",
                "X_df[['momdad14', 'sinmom14', 'reg661', 'reg662',\n",
                "        'reg663', 'reg664', 'reg665', 'reg666', 'reg667', 'reg668', 'reg669', 'south66']] = df[['momdad14', 'sinmom14', \n",
                "        'reg661', 'reg662','reg663', 'reg664', 'reg665', 'reg666', 'reg667', 'reg668', 'reg669', 'south66']]\n",
                "X_df[['black', 'smsa', 'south', 'smsa66']] = df[['black', 'smsa', 'south', 'smsa66']]\n",
                "columns_to_scale = ['fatheduc', 'motheduc', 'exper', 'expersq']\n",
                "scaler = StandardScaler()\n",
                "X_raw = X_df.values[data_filter]\n",
                "X_df[columns_to_scale] = scaler.fit_transform(X_df[columns_to_scale])\n",
                "X = X_df.values[data_filter]"
            ]
        },
        {
            "cell_type": "code",
            "execution_count": 4,
            "metadata": {},
            "outputs": [
                {
                    "data": {
                        "text/plain": [
                            "Index(['exper', 'expersq', 'fatheduc', 'fatheduc_nan', 'motheduc',\n",
                            "       'motheduc_nan', 'momdad14', 'sinmom14', 'reg661', 'reg662', 'reg663',\n",
                            "       'reg664', 'reg665', 'reg666', 'reg667', 'reg668', 'reg669', 'south66',\n",
                            "       'black', 'smsa', 'south', 'smsa66'],\n",
                            "      dtype='object')"
                        ]
                    },
                    "execution_count": 4,
                    "metadata": {},
                    "output_type": "execute_result"
                }
            ],
            "source": [
                "X_df.columns"
            ]
        },
        {
            "cell_type": "markdown",
            "metadata": {},
            "source": [
                "# 2. Semi-Synthetic Data with Binary Instrument and Continuous Treatment\n",
                "\n",
                "Data generating process uning real covariates $X$ and instrument $Z$, but synthetic $y$ and $T$ based on the \"intent to treat\" instrument setting with non-compliance. The instrument corresponds to a fully randomized recommendation of treatment. Then each sample complies with the recommendation to some degree. This probability also depends on an unobserved confounder that has a direct effect on the outcome. Moreover, compliance also depends on the observed feature $X$.\n",
                "\n",
                "\\begin{align}\n",
                "X \\tag{ real features}\\\\\n",
                "Z \\tag{real instrument}\\\\\n",
                "\\nu \\sim \\; & \\text{U}[0, 1] \\tag{unobserved confounder}\\\\\n",
                "C = \\; & c\\cdot X[i], \\; c \\;(const)\\sim \\text{U}[.2, .3] \\tag{compliance degree}\\\\\n",
                "T = \\; & C\\cdot Z + g(X) + \\nu  \\tag{treatment}\\\\\n",
                "y \\sim \\; & \\text{Normal}(\\mu=\\theta(X) \\cdot (T + \\nu) + f(X),\\; \\sigma=.1) \\tag{outcome}\n",
                "\\end{align}\n",
                "\n",
                "Moreover:\n",
                "\\begin{align}\n",
                "\\theta(X) = \\; & \\alpha + \\beta \\cdot X[i] \\tag{CATE}\\\\\n",
                "f(X) = \\; & X[i] \\tag{Nuissance function}\\\\\n",
                "g(X) = \\; & X[i] \\tag{Nuissance function}\n",
                "\\end{align}\n"
            ]
        },
        {
            "cell_type": "code",
            "execution_count": 5,
            "metadata": {},
            "outputs": [
                {
                    "data": {
                        "image/png": "[encoded data removed]",
                        "text/plain": [
                            "<Figure size 720x144 with 2 Axes>"
                        ]
                    },
                    "metadata": {},
                    "output_type": "display_data"
                }
            ],
            "source": [
                "def dgp_bin_Z_cont_T(X, Z, hetero_col, true_fn, random_seed=None):\n",
                "    np.random.seed(random_seed)\n",
                "    n, d = X.shape\n",
                "    nu = np.random.uniform(-1, 1, size=(n,))\n",
                "    c = np.random.uniform(0.2, 0.3)\n",
                "    C = c * X[:, hetero_col] # Compliers when recomended\n",
                "    T = C * Z + X[:, hetero_col] + nu # Treatment with compliance\n",
                "    y = true_fn(X) * (T + nu)  + 0.05*X[:, hetero_col] + np.random.normal(0, .1, size=(n,))\n",
                "    return y, T\n",
                "\n",
                "hetero_col = 4 # Mother's education\n",
                "hetero_col_2 = 7\n",
                "true_fn = lambda X: 0.1 + 0.05*X[:, hetero_col] - 0.1*X[:, hetero_col_2]\n",
                "\n",
                "np.random.seed(1237)\n",
                "y, T = dgp_bin_Z_cont_T(X_raw, Z, hetero_col, true_fn)\n",
                "\n",
                "plt.figure(figsize=(10, 2))\n",
                "plt.subplot(1, 2, 1)\n",
                "plt.hist(T[Z==0])\n",
                "plt.title(\"T[Z=0]: Total: {}, Mean(T): {:.2f}\".format(T[Z==0].shape[0], np.mean(T[Z==0])))\n",
                "plt.subplot(1, 2, 2)\n",
                "plt.hist(T[Z==1])\n",
                "plt.title(\"T[Z=1]: Total: {}, Mean(T): {:.2f}\".format(T[Z==1].shape[0], np.mean(T[Z==1])))\n",
                "plt.show()"
            ]
        },
        {
            "cell_type": "markdown",
            "metadata": {},
            "source": [
                "# ANALYSIS"
            ]
        },
        {
            "cell_type": "markdown",
            "metadata": {},
            "source": [
                "### Defining some hyperparameters"
            ]
        },
        {
            "cell_type": "code",
            "execution_count": 6,
            "metadata": {},
            "outputs": [
                {
                    "name": "stdout",
                    "output_type": "stream",
                    "text": [
                        "0.006686726847208292\n"
                    ]
                }
            ],
            "source": [
                "random_seed = 12345 # random seed for each experiment\n",
                "N_SPLITS = 10 # number of splits for cross-fitting\n",
                "COV_CLIP = 20/X.shape[0] # covariance clipping in driv\n",
                "print(COV_CLIP)"
            ]
        },
        {
            "cell_type": "markdown",
            "metadata": {},
            "source": [
                "### Defining some generic non-parametric regressors and classifiers"
            ]
        },
        {
            "cell_type": "code",
            "execution_count": 7,
            "metadata": {},
            "outputs": [],
            "source": [
                "from utilities import RegWrapper\n",
                "from sklearn.model_selection import GridSearchCV\n",
                "from sklearn.linear_model import LassoCV, LogisticRegressionCV\n",
                "from xgboost import XGBClassifier, XGBRegressor\n",
                "from xgb_utilities import XGBWrapper\n",
                "\n",
                "# Linear models for regression and classification \n",
                "model = lambda: Pipeline([('poly', PolynomialFeatures(degree=2, interaction_only=True, include_bias=False)),\n",
                "                          ('lasso', LassoCV(cv=3, n_jobs=-1))])\n",
                "model_clf = lambda: RegWrapper(Pipeline([('poly', PolynomialFeatures(degree=2, interaction_only=True, include_bias=False)),\n",
                "                                    ('logistic', LogisticRegressionCV(cv=3, solver='liblinear',\n",
                "                                                                      scoring='neg_log_loss', n_jobs=-1))]))"
            ]
        },
        {
            "cell_type": "markdown",
            "metadata": {},
            "source": [
                "### Some utility functions"
            ]
        },
        {
            "cell_type": "code",
            "execution_count": 8,
            "metadata": {
                "collapsed": true
            },
            "outputs": [],
            "source": [
                "def nuisance_diagnostic(cate, nuisance_model, property_name, property_fn, \n",
                "                        index_names=None, statistic=np.std, threshold=None):\n",
                "    std = statistic([property_fn(ns) for ns in cate.fitted_nuisances[nuisance_model]], axis=0)\n",
                "    if hasattr(std, '__len__'):\n",
                "        if threshold is None:\n",
                "            coefs = np.argmax(std).flatten()\n",
                "        else:\n",
                "            coefs = np.argwhere(std >= threshold).flatten()\n",
                "        if index_names is None:\n",
                "            index_names = np.arange(std.shape[0])\n",
                "        for high_var in coefs:\n",
                "            plt.title(\"{}: {}[{}] Across Folds\".format(nuisance_model, property_name, index_names[high_var]))\n",
                "            plt.plot([property_fn(ns)[high_var] for ns in cate.fitted_nuisances[nuisance_model]])\n",
                "            plt.xlabel('fold')\n",
                "            plt.ylabel('property')\n",
                "            plt.show()\n",
                "    else:\n",
                "        plt.title(\"{}: {} Across Folds\".format(nuisance_model, property_name))    \n",
                "        plt.plot([property_fn(ns) for ns in cate.fitted_nuisances[nuisance_model]])\n",
                "        plt.xlabel('fold')\n",
                "        plt.ylabel('property')\n",
                "        plt.show()\n",
                "    "
            ]
        },
        {
            "cell_type": "markdown",
            "metadata": {},
            "source": [
                "# ATE via DMLATEIV"
            ]
        },
        {
            "cell_type": "code",
            "execution_count": 9,
            "metadata": {},
            "outputs": [
                {
                    "name": "stderr",
                    "output_type": "stream",
                    "text": [
                        "C:\\ProgramData\\Anaconda3\\lib\\site-packages\\numba\\errors.py:105: UserWarning: Insufficiently recent colorama version found. Numba requires colorama >= 0.3.9\n",
                        "  warnings.warn(msg)\n"
                    ]
                }
            ],
            "source": [
                "from dml_ate_iv import DMLATEIV\n",
                "\n",
                "np.random.seed(random_seed)\n",
                "\n",
                "# We need to specify models to be used for each of these residualizations\n",
                "model_Y_X = lambda: model() # model for E[Y | X]\n",
                "model_T_X = lambda: model() # model for E[T | X]. We use a regressor since T is continuous\n",
                "model_Z_X = lambda: model_clf() # model for E[Z | X]. We use a classifier since Z is binary\n",
                "\n",
                "dmlate = DMLATEIV(model_Y_X(), model_T_X(), model_Z_X(),\n",
                "                  n_splits=N_SPLITS, # n_splits determines the number of splits to be used for cross-fitting.\n",
                "                  binary_instrument=True, # a flag whether to stratify cross-fitting by instrument\n",
                "                  binary_treatment=False # a flag whether to stratify cross-fitting by treatment\n",
                "                 )"
            ]
        },
        {
            "cell_type": "code",
            "execution_count": 10,
            "metadata": {},
            "outputs": [
                {
                    "data": {
                        "text/plain": [
                            "<dml_ate_iv.DMLATEIV at 0x22503e76358>"
                        ]
                    },
                    "execution_count": 10,
                    "metadata": {},
                    "output_type": "execute_result"
                }
            ],
            "source": [
                "# We fit DMLATEIV with these models\n",
                "dmlate.fit(y, T, X, Z)"
            ]
        },
        {
            "cell_type": "code",
            "execution_count": 11,
            "metadata": {
                "collapsed": true
            },
            "outputs": [],
            "source": [
                "# We call effect() to get the ATE\n",
                "ta_effect = dmlate.effect()"
            ]
        },
        {
            "cell_type": "code",
            "execution_count": 12,
            "metadata": {},
            "outputs": [
                {
                    "name": "stdout",
                    "output_type": "stream",
                    "text": [
                        "ATE Estimate: 0.651\n",
                        "True ATE: 0.609\n",
                        "CATE MSE: 0.03\n"
                    ]
                }
            ],
            "source": [
                "# Comparison with true ATE\n",
                "print(\"ATE Estimate: {:.3f}\".format(ta_effect))\n",
                "print(\"True ATE: {:.3f}\".format(np.mean(true_fn(X_raw))))\n",
                "# CATE MSE\n",
                "print(\"CATE MSE: {:.2f}\".format(np.mean((true_fn(X_raw) - ta_effect)**2)))"
            ]
        },
        {
            "cell_type": "code",
            "execution_count": 13,
            "metadata": {},
            "outputs": [
                {
                    "name": "stdout",
                    "output_type": "stream",
                    "text": [
                        "ATE Estimate Interval: (0.607, 0.696)\n",
                        "True ATE: 0.609\n"
                    ]
                }
            ],
            "source": [
                "# We can call normal_effect_interval to get confidence intervals based\n",
                "# based on the asympotic normal approximation\n",
                "ta_effect = dmlate.normal_effect_interval(lower=2.5, upper=97.5)\n",
                "# Comparison with true ATE\n",
                "print(\"ATE Estimate Interval: ({:.3f}, {:.3f})\".format(ta_effect[0], ta_effect[1]))\n",
                "print(\"True ATE: {:.3f}\".format(np.mean(true_fn(X_raw))))"
            ]
        },
        {
            "cell_type": "code",
            "execution_count": 14,
            "metadata": {},
            "outputs": [
                {
                    "name": "stderr",
                    "output_type": "stream",
                    "text": [
                        "[Parallel(n_jobs=-1)]: Using backend LokyBackend with 12 concurrent workers.\n",
                        "[Parallel(n_jobs=-1)]: Done   8 tasks      | elapsed:  1.4min\n"
                    ]
                },
                {
                    "name": "stdout",
                    "output_type": "stream",
                    "text": [
                        "Coverage: 0.52\n"
                    ]
                },
                {
                    "name": "stderr",
                    "output_type": "stream",
                    "text": [
                        "[Parallel(n_jobs=-1)]: Done 100 out of 100 | elapsed:  8.4min finished\n"
                    ]
                }
            ],
            "source": [
                "def get_dmlateiv_coverage(true_effect, iteration):\n",
                "    y, T = dgp_bin_Z_cont_T(X_raw, Z, hetero_col, true_fn, random_seed=iteration)\n",
                "    dmlate = DMLATEIV(model_Y_X(), model_T_X(), model_Z_X(),\n",
                "                  n_splits=N_SPLITS, # n_splits determines the number of splits to be used for cross-fitting.\n",
                "                  binary_instrument=True, # a flag whether to stratify cross-fitting by instrument\n",
                "                  binary_treatment=False # a flag whether to stratify cross-fitting by treatment\n",
                "                 )\n",
                "    dmlate.fit(y, T, X, Z)\n",
                "    left, right = dmlate.normal_effect_interval(lower=2.5, upper=97.5)\n",
                "    if true_effect >= left and true_effect <= right:\n",
                "        return 1\n",
                "    return 0\n",
                "\n",
                "from joblib import Parallel, delayed\n",
                "n_experiments=100\n",
                "true_ate = np.mean(true_fn(X_raw))\n",
                "if True:\n",
                "    contains_truth = np.array(Parallel(n_jobs=-1, verbose=3)(\n",
                "            delayed(get_dmlateiv_coverage)(true_ate, it) for it in range(n_experiments)))\n",
                "    print(\"Coverage: {}\".format(contains_truth.mean()))"
            ]
        },
        {
            "cell_type": "markdown",
            "metadata": {},
            "source": [
                "# ATE and CATE via DMLIV"
            ]
        },
        {
            "cell_type": "code",
            "execution_count": 15,
            "metadata": {
                "collapsed": true
            },
            "outputs": [],
            "source": [
                "from dml_iv import DMLIV\n",
                "from utilities import SelectiveLasso, SeparateModel\n",
                "from sklearn.linear_model import LassoCV, LogisticRegressionCV\n",
                "from econml.utilities import hstack\n",
                "\n",
                "np.random.seed(random_seed)\n",
                "\n",
                "# For DMLIV we also need a model for E[T | X, Z]. To allow for heterogeneity in the compliance, i.e.\n",
                "# T = beta(X)*Z + gamma(X)\n",
                "# we train a separate model for Z=1 and Z=0. The model for Z=1 learns the\n",
                "# quantity beta(X) + gamma(X) and the model for Z=0 learns gamma(X).\n",
                "model_T_XZ = lambda: SeparateModel(model(), model())\n",
                "\n",
                "# We now specify the features to be used for heterogeneity. We will fit a CATE model of the form\n",
                "#      theta(X) = <theta, phi(X)>\n",
                "# for some set of features phi(X). The featurizer needs to support fit_transform, that takes\n",
                "# X and returns phi(X). We need to include a bias if we also want a constant term.\n",
                "dmliv_featurizer = lambda: PolynomialFeatures(degree=1, include_bias=True)\n",
                "\n",
                "# Then we need to specify a model to be used for fitting the parameters theta in the linear form.\n",
                "# This model will minimize the square loss:\n",
                "#        (Y - E[Y|X] - <theta, phi(X)> * (E[T|X,Z] - E[T|X]))**2\n",
                "#dmliv_model_effect = lambda: LinearRegression(fit_intercept=False)\n",
                "\n",
                "\n",
                "# Potentially with some regularization on theta. Here we use an ell_1 penalty on theta\n",
                "# If we also have a prior that there is no effect heterogeneity we can use a selective lasso\n",
                "# that does not penalize the constant term in the CATE model\n",
                "dmliv_model_effect = lambda: SelectiveLasso(np.arange(1, X.shape[1]+1), LassoCV(cv=5, fit_intercept=False))\n",
                "\n",
                "\n",
                "# We initialize DMLIV with all these models and call fit\n",
                "cate = DMLIV(model_Y_X(), model_T_X(), model_T_XZ(), \n",
                "             dmliv_model_effect(), dmliv_featurizer(),\n",
                "             n_splits=N_SPLITS, # number of splits to use for cross-fitting\n",
                "             binary_instrument=True, # a flag whether to stratify cross-fitting by instrument\n",
                "             binary_treatment=False # a flag whether to stratify cross-fitting by treatment\n",
                "            )"
            ]
        },
        {
            "cell_type": "code",
            "execution_count": 16,
            "metadata": {},
            "outputs": [
                {
                    "data": {
                        "text/plain": [
                            "<dml_iv.DMLIV at 0x225047062e8>"
                        ]
                    },
                    "execution_count": 16,
                    "metadata": {},
                    "output_type": "execute_result"
                }
            ],
            "source": [
                "cate.fit(y, T, X, Z)"
            ]
        },
        {
            "cell_type": "code",
            "execution_count": 17,
            "metadata": {},
            "outputs": [
                {
                    "data": {
                        "image/png": "[encoded data removed]",
                        "text/plain": [
                            "<Figure size 432x288 with 1 Axes>"
                        ]
                    },
                    "metadata": {},
                    "output_type": "display_data"
                }
            ],
            "source": [
                "# To get the CATE at every X we call effect(X)\n",
                "dml_effect = cate.effect(X)\n",
                "plt.hist(dml_effect, label='est')\n",
                "plt.hist(true_fn(X_raw), alpha=.2, label='true')\n",
                "plt.legend()\n",
                "plt.show()"
            ]
        },
        {
            "cell_type": "code",
            "execution_count": 18,
            "metadata": {},
            "outputs": [
                {
                    "name": "stdout",
                    "output_type": "stream",
                    "text": [
                        "[ 0.62317714  0.          0.          0.         -0.          0.10377389\n",
                        " -0.          0.         -0.         -0.          0.          0.\n",
                        " -0.         -0.         -0.         -0.          0.          0.\n",
                        " -0.          0.          0.         -0.          0.        ]\n"
                    ]
                }
            ],
            "source": [
                "# To get the parameter theta we call coef_. The first entry is the intercept of the CATE model\n",
                "print(cate.coef_)"
            ]
        },
        {
            "cell_type": "code",
            "execution_count": 19,
            "metadata": {},
            "outputs": [
                {
                    "name": "stdout",
                    "output_type": "stream",
                    "text": [
                        "ATE Estimate: 0.624\n",
                        "True ATE: 0.609\n"
                    ]
                }
            ],
            "source": [
                "# We can average the CATE to get an ATE\n",
                "print(\"ATE Estimate: {:.3f}\".format(np.mean(dml_effect)))\n",
                "print(\"True ATE: {:.3f}\".format(np.mean(true_fn(X_raw))))"
            ]
        },
        {
            "cell_type": "code",
            "execution_count": 20,
            "metadata": {},
            "outputs": [
                {
                    "data": {
                        "image/png": "[encoded data removed]",
                        "text/plain": [
                            "<Figure size 432x288 with 1 Axes>"
                        ]
                    },
                    "metadata": {},
                    "output_type": "display_data"
                }
            ],
            "source": [
                "# We can also see how it compares to the true CATE at each target point and calculate MSE\n",
                "plt.title(\"DMLIV CATE as Function of {}. MSE={:.3f}\".format(X_df.columns[4], np.mean((dml_effect-true_fn(X_raw))**2)))\n",
                "plt.scatter(X[:, 4], dml_effect, label='est')\n",
                "plt.scatter(X[:, 4], true_fn(X_raw), label='true', alpha=.2)\n",
                "plt.legend()\n",
                "plt.show()"
            ]
        },
        {
            "cell_type": "markdown",
            "metadata": {},
            "source": [
                "# ATE and Projected CATE via DRIV"
            ]
        },
        {
            "cell_type": "code",
            "execution_count": 21,
            "metadata": {
                "collapsed": true
            },
            "outputs": [],
            "source": [
                "from dml_iv import DMLIV\n",
                "from dr_iv import DRIV, ProjectedDRIV\n",
                "from utilities import SubsetWrapper, StatsModelLinearRegression, ConstantModel\n",
                "from sklearn.dummy import DummyRegressor\n",
                "\n",
                "np.random.seed(random_seed)\n",
                "\n",
                "# For DRIV we need a model for predicting E[T*Z | X]. We use a classifier\n",
                "model_TZ_X = lambda: model()\n",
                "\n",
                "# We also need a model for the final regression that will fit the function theta(X)\n",
                "# If we want to fit an ATE, we simply fit a constant functin theta(X) = theta\n",
                "# We can do this with a pipeline where the preprocessing step only creates a bias column\n",
                "# and the regression step fits a linear regression with no intercept.\n",
                "# To get normal confidence intervals easily we can use a statsmodels linear regression\n",
                "# wrapped in an sklearn interface\n",
                "const_driv_model_effect = lambda: ConstantModel()\n",
                "\n",
                "# As in OrthoDMLIV we need a perliminary estimator of the CATE.\n",
                "# We use a DMLIV estimator with no cross-fitting (n_splits=1)\n",
                "dmliv_prel_model_effect = DMLIV(model_Y_X(), model_T_X(), model_T_XZ(),\n",
                "                                dmliv_model_effect(), dmliv_featurizer(),\n",
                "                                n_splits=1, binary_instrument=True, binary_treatment=False)\n",
                "\n",
                "const_dr_cate = DRIV(model_Y_X(), model_T_X(), model_Z_X(), # same as in DMLATEIV\n",
                "                        dmliv_prel_model_effect, # preliminary model for CATE, must support fit(y, T, X, Z) and effect(X)\n",
                "                        model_TZ_X(), # model for E[T * Z | X]\n",
                "                        const_driv_model_effect(), # model for final stage of fitting theta(X)\n",
                "                        cov_clip=COV_CLIP, # covariance clipping to avoid large values in final regression from weak instruments\n",
                "                        n_splits=N_SPLITS, # number of splits to use for cross-fitting\n",
                "                        binary_instrument=True, # a flag whether to stratify cross-fitting by instrument\n",
                "                        binary_treatment=False, # a flag whether to stratify cross-fitting by treatment\n",
                "                        opt_reweighted=False # whether to optimally re-weight samples. Valid only for flexible final model\n",
                "                       )"
            ]
        },
        {
            "cell_type": "code",
            "execution_count": 22,
            "metadata": {
                "scrolled": true
            },
            "outputs": [
                {
                    "name": "stderr",
                    "output_type": "stream",
                    "text": [
                        "C:\\ProgramData\\Anaconda3\\lib\\site-packages\\sklearn\\linear_model\\coordinate_descent.py:492: ConvergenceWarning: Objective did not converge. You might want to increase the number of iterations. Fitting data with very small alpha may cause precision problems.\n",
                        "  ConvergenceWarning)\n",
                        "C:\\ProgramData\\Anaconda3\\lib\\site-packages\\sklearn\\linear_model\\coordinate_descent.py:492: ConvergenceWarning: Objective did not converge. You might want to increase the number of iterations. Fitting data with very small alpha may cause precision problems.\n",
                        "  ConvergenceWarning)\n",
                        "C:\\ProgramData\\Anaconda3\\lib\\site-packages\\sklearn\\linear_model\\coordinate_descent.py:492: ConvergenceWarning: Objective did not converge. You might want to increase the number of iterations. Fitting data with very small alpha may cause precision problems.\n",
                        "  ConvergenceWarning)\n",
                        "C:\\ProgramData\\Anaconda3\\lib\\site-packages\\sklearn\\linear_model\\coordinate_descent.py:492: ConvergenceWarning: Objective did not converge. You might want to increase the number of iterations. Fitting data with very small alpha may cause precision problems.\n",
                        "  ConvergenceWarning)\n",
                        "C:\\ProgramData\\Anaconda3\\lib\\site-packages\\sklearn\\linear_model\\coordinate_descent.py:492: ConvergenceWarning: Objective did not converge. You might want to increase the number of iterations. Fitting data with very small alpha may cause precision problems.\n",
                        "  ConvergenceWarning)\n"
                    ]
                },
                {
                    "data": {
                        "text/plain": [
                            "<dr_iv.DRIV at 0x225048e3668>"
                        ]
                    },
                    "execution_count": 22,
                    "metadata": {},
                    "output_type": "execute_result"
                }
            ],
            "source": [
                "const_dr_cate.fit(y, T, X, Z, store_final=True)"
            ]
        },
        {
            "cell_type": "code",
            "execution_count": 23,
            "metadata": {
                "scrolled": false
            },
            "outputs": [
                {
                    "name": "stderr",
                    "output_type": "stream",
                    "text": [
                        "C:\\ProgramData\\Anaconda3\\lib\\site-packages\\statsmodels\\regression\\linear_model.py:1554: RuntimeWarning: invalid value encountered in double_scalars\n",
                        "  return self.ess/self.df_model\n",
                        "C:\\ProgramData\\Anaconda3\\lib\\site-packages\\scipy\\stats\\_distn_infrastructure.py:877: RuntimeWarning: invalid value encountered in greater\n",
                        "  return (self.a < x) & (x < self.b)\n",
                        "C:\\ProgramData\\Anaconda3\\lib\\site-packages\\scipy\\stats\\_distn_infrastructure.py:877: RuntimeWarning: invalid value encountered in less\n",
                        "  return (self.a < x) & (x < self.b)\n",
                        "C:\\ProgramData\\Anaconda3\\lib\\site-packages\\scipy\\stats\\_distn_infrastructure.py:1831: RuntimeWarning: invalid value encountered in less_equal\n",
                        "  cond2 = cond0 & (x <= self.a)\n"
                    ]
                },
                {
                    "data": {
                        "text/html": [
                            "<table class=\"simpletable\">\n",
                            "<caption>OLS Regression Results</caption>\n",
                            "<tr>\n",
                            "  <th>Dep. Variable:</th>            <td>y</td>        <th>  R-squared:         </th> <td>   0.000</td> \n",
                            "</tr>\n",
                            "<tr>\n",
                            "  <th>Model:</th>                   <td>OLS</td>       <th>  Adj. R-squared:    </th> <td>   0.000</td> \n",
                            "</tr>\n",
                            "<tr>\n",
                            "  <th>Method:</th>             <td>Least Squares</td>  <th>  F-statistic:       </th> <td>     nan</td> \n",
                            "</tr>\n",
                            "<tr>\n",
                            "  <th>Date:</th>             <td>Sat, 01 Jun 2019</td> <th>  Prob (F-statistic):</th>  <td>   nan</td>  \n",
                            "</tr>\n",
                            "<tr>\n",
                            "  <th>Time:</th>                 <td>15:27:35</td>     <th>  Log-Likelihood:    </th> <td> -7831.2</td> \n",
                            "</tr>\n",
                            "<tr>\n",
                            "  <th>No. Observations:</th>      <td>  2991</td>      <th>  AIC:               </th> <td>1.566e+04</td>\n",
                            "</tr>\n",
                            "<tr>\n",
                            "  <th>Df Residuals:</th>          <td>  2990</td>      <th>  BIC:               </th> <td>1.567e+04</td>\n",
                            "</tr>\n",
                            "<tr>\n",
                            "  <th>Df Model:</th>              <td>     0</td>      <th>                     </th>     <td> </td>    \n",
                            "</tr>\n",
                            "<tr>\n",
                            "  <th>Covariance Type:</th>      <td>nonrobust</td>    <th>                     </th>     <td> </td>    \n",
                            "</tr>\n",
                            "</table>\n",
                            "<table class=\"simpletable\">\n",
                            "<tr>\n",
                            "    <td></td>       <th>coef</th>     <th>std err</th>      <th>t</th>      <th>P>|t|</th>  <th>[0.025</th>    <th>0.975]</th>  \n",
                            "</tr>\n",
                            "<tr>\n",
                            "  <th>const</th> <td>    0.5458</td> <td>    0.061</td> <td>    8.995</td> <td> 0.000</td> <td>    0.427</td> <td>    0.665</td>\n",
                            "</tr>\n",
                            "</table>\n",
                            "<table class=\"simpletable\">\n",
                            "<tr>\n",
                            "  <th>Omnibus:</th>       <td>4190.040</td> <th>  Durbin-Watson:     </th>  <td>   1.964</td>  \n",
                            "</tr>\n",
                            "<tr>\n",
                            "  <th>Prob(Omnibus):</th>  <td> 0.000</td>  <th>  Jarque-Bera (JB):  </th> <td>8408463.090</td>\n",
                            "</tr>\n",
                            "<tr>\n",
                            "  <th>Skew:</th>           <td>-7.266</td>  <th>  Prob(JB):          </th>  <td>    0.00</td>  \n",
                            "</tr>\n",
                            "<tr>\n",
                            "  <th>Kurtosis:</th>       <td>262.343</td> <th>  Cond. No.          </th>  <td>    1.00</td>  \n",
                            "</tr>\n",
                            "</table><br/><br/>Warnings:<br/>[1] Standard Errors assume that the covariance matrix of the errors is correctly specified."
                        ],
                        "text/plain": [
                            "<class 'statsmodels.iolib.summary.Summary'>\n",
                            "\"\"\"\n",
                            "                            OLS Regression Results                            \n",
                            "==============================================================================\n",
                            "Dep. Variable:                      y   R-squared:                       0.000\n",
                            "Model:                            OLS   Adj. R-squared:                  0.000\n",
                            "Method:                 Least Squares   F-statistic:                       nan\n",
                            "Date:                Sat, 01 Jun 2019   Prob (F-statistic):                nan\n",
                            "Time:                        15:27:35   Log-Likelihood:                -7831.2\n",
                            "No. Observations:                2991   AIC:                         1.566e+04\n",
                            "Df Residuals:                    2990   BIC:                         1.567e+04\n",
                            "Df Model:                           0                                         \n",
                            "Covariance Type:            nonrobust                                         \n",
                            "==============================================================================\n",
                            "                 coef    std err          t      P>|t|      [0.025      0.975]\n",
                            "------------------------------------------------------------------------------\n",
                            "const          0.5458      0.061      8.995      0.000       0.427       0.665\n",
                            "==============================================================================\n",
                            "Omnibus:                     4190.040   Durbin-Watson:                   1.964\n",
                            "Prob(Omnibus):                  0.000   Jarque-Bera (JB):          8408463.090\n",
                            "Skew:                          -7.266   Prob(JB):                         0.00\n",
                            "Kurtosis:                     262.343   Cond. No.                         1.00\n",
                            "==============================================================================\n",
                            "\n",
                            "Warnings:\n",
                            "[1] Standard Errors assume that the covariance matrix of the errors is correctly specified.\n",
                            "\"\"\""
                        ]
                    },
                    "execution_count": 23,
                    "metadata": {},
                    "output_type": "execute_result"
                }
            ],
            "source": [
                "# To get the statsmodel summary we look at the effect_model, which is the pipeline, we then look\n",
                "# at the reg step of the pipeline which is the statsmodel wrapper and then we look\n",
                "# at the model attribute of the statsmodel wrapper and print the summary()\n",
                "const_dr_cate.effect_model.summary()"
            ]
        },
        {
            "cell_type": "code",
            "execution_count": 24,
            "metadata": {
                "collapsed": true
            },
            "outputs": [],
            "source": [
                "def get_driv_coverage(true_effect, iteration):\n",
                "    y, T = dgp_bin_Z_cont_T(X_raw, Z, hetero_col, true_fn, random_seed=iteration)\n",
                "    dmliv_prel_model_effect = DMLIV(model_Y_X(), model_T_X(), model_T_XZ(),\n",
                "                                dmliv_model_effect(), dmliv_featurizer(),\n",
                "                                n_splits=1, binary_instrument=True, binary_treatment=True)\n",
                "    const_dr_cate = DRIV(model_Y_X(), model_T_X(), model_Z_X(), # same as in DMLATEIV\n",
                "                            dmliv_prel_model_effect, # preliminary model for CATE, must support fit(y, T, X, Z) and effect(X)\n",
                "                            model_TZ_X(), # model for E[T * Z | X]\n",
                "                            const_driv_model_effect(), # model for final stage of fitting theta(X)\n",
                "                            cov_clip=COV_CLIP, # covariance clipping to avoid large values in final regression from weak instruments\n",
                "                            n_splits=N_SPLITS, # number of splits to use for cross-fitting\n",
                "                            binary_instrument=True, # a flag whether to stratify cross-fitting by instrument\n",
                "                            binary_treatment=False # a flag whether to stratify cross-fitting by treatment\n",
                "                           )\n",
                "    const_dr_cate.fit(y, T, X, Z, store_final=True)\n",
                "    left, right = const_dr_cate.effect_model.est.model.conf_int(alpha=0.05)[0]\n",
                "    if true_effect >= left and true_effect <= right:\n",
                "        return 1\n",
                "    return 0"
            ]
        },
        {
            "cell_type": "code",
            "execution_count": 25,
            "metadata": {},
            "outputs": [
                {
                    "name": "stderr",
                    "output_type": "stream",
                    "text": [
                        "[Parallel(n_jobs=-1)]: Using backend LokyBackend with 12 concurrent workers.\n",
                        "[Parallel(n_jobs=-1)]: Done   8 tasks      | elapsed:  1.3min\n"
                    ]
                },
                {
                    "name": "stdout",
                    "output_type": "stream",
                    "text": [
                        "Coverage: 0.98\n"
                    ]
                },
                {
                    "name": "stderr",
                    "output_type": "stream",
                    "text": [
                        "[Parallel(n_jobs=-1)]: Done 100 out of 100 | elapsed: 11.3min finished\n"
                    ]
                }
            ],
            "source": [
                "from joblib import Parallel, delayed\n",
                "n_experiments=100\n",
                "true_ate = np.mean(true_fn(X_raw))\n",
                "if True:\n",
                "    contains_truth = np.array(Parallel(n_jobs=-1, verbose=3)(\n",
                "            delayed(get_driv_coverage)(true_ate, it) for it in range(n_experiments)))\n",
                "    print(\"Coverage: {}\".format(contains_truth.mean()))"
            ]
        },
        {
            "cell_type": "markdown",
            "metadata": {},
            "source": [
                "## Projecting CATE to a pre-chosen subset of variables in final model"
            ]
        },
        {
            "cell_type": "code",
            "execution_count": 26,
            "metadata": {},
            "outputs": [
                {
                    "name": "stdout",
                    "output_type": "stream",
                    "text": [
                        "[4 7]\n"
                    ]
                }
            ],
            "source": [
                "from dml_iv import DMLIV\n",
                "from dr_iv import DRIV, ProjectedDRIV\n",
                "from utilities import SubsetWrapper\n",
                "\n",
                "np.random.seed(random_seed)\n",
                "\n",
                "# We could also fit a projection on a subset of the features by using the\n",
                "# subset wrapper from our utilities.\n",
                "\n",
                "# Example: including everything for expository purposes, but any array_like of indices would work\n",
                "subset_names = set(['motheduc', 'sinmom14'])\n",
                "# list of indices of features X to use in the final model\n",
                "feature_inds = np.argwhere([(x in subset_names) for x in X_df.columns.values]).flatten() #[0] #np.arange(X.shape[1]) \n",
                "print(feature_inds)\n",
                "# Because we are projecting to a low dimensional model space, we can\n",
                "# do valid inference and we can use statsmodel linear regression to get all\n",
                "# the hypothesis testing capability\n",
                "proj_driv_model_effect = lambda: SubsetWrapper(StatsModelLinearRegression(),\n",
                "                                          feature_inds # list of indices of features X to use in the final model\n",
                "                                         )"
            ]
        },
        {
            "cell_type": "code",
            "execution_count": 27,
            "metadata": {},
            "outputs": [
                {
                    "data": {
                        "text/plain": [
                            "Index(['exper', 'expersq', 'fatheduc', 'fatheduc_nan', 'motheduc',\n",
                            "       'motheduc_nan', 'momdad14', 'sinmom14', 'reg661', 'reg662', 'reg663',\n",
                            "       'reg664', 'reg665', 'reg666', 'reg667', 'reg668', 'reg669', 'south66',\n",
                            "       'black', 'smsa', 'south', 'smsa66'],\n",
                            "      dtype='object')"
                        ]
                    },
                    "execution_count": 27,
                    "metadata": {},
                    "output_type": "execute_result"
                }
            ],
            "source": [
                "X_df.columns"
            ]
        },
        {
            "cell_type": "code",
            "execution_count": 28,
            "metadata": {
                "collapsed": true
            },
            "outputs": [],
            "source": [
                "proj_dr_cate = const_dr_cate.refit_final(proj_driv_model_effect())"
            ]
        },
        {
            "cell_type": "code",
            "execution_count": 29,
            "metadata": {
                "collapsed": true
            },
            "outputs": [],
            "source": [
                "# To get the CATE at every X we call effect(X[:, feature_inds])\n",
                "proj_dr_effect = proj_dr_cate.effect(X[:, feature_inds])"
            ]
        },
        {
            "cell_type": "code",
            "execution_count": 30,
            "metadata": {},
            "outputs": [
                {
                    "data": {
                        "text/html": [
                            "<table class=\"simpletable\">\n",
                            "<caption>OLS Regression Results</caption>\n",
                            "<tr>\n",
                            "  <th>Dep. Variable:</th>            <td>y</td>        <th>  R-squared:         </th> <td>   0.002</td> \n",
                            "</tr>\n",
                            "<tr>\n",
                            "  <th>Model:</th>                   <td>OLS</td>       <th>  Adj. R-squared:    </th> <td>   0.001</td> \n",
                            "</tr>\n",
                            "<tr>\n",
                            "  <th>Method:</th>             <td>Least Squares</td>  <th>  F-statistic:       </th> <td>   2.637</td> \n",
                            "</tr>\n",
                            "<tr>\n",
                            "  <th>Date:</th>             <td>Sat, 01 Jun 2019</td> <th>  Prob (F-statistic):</th>  <td>0.0717</td>  \n",
                            "</tr>\n",
                            "<tr>\n",
                            "  <th>Time:</th>                 <td>15:38:55</td>     <th>  Log-Likelihood:    </th> <td> -7828.6</td> \n",
                            "</tr>\n",
                            "<tr>\n",
                            "  <th>No. Observations:</th>      <td>  2991</td>      <th>  AIC:               </th> <td>1.566e+04</td>\n",
                            "</tr>\n",
                            "<tr>\n",
                            "  <th>Df Residuals:</th>          <td>  2988</td>      <th>  BIC:               </th> <td>1.568e+04</td>\n",
                            "</tr>\n",
                            "<tr>\n",
                            "  <th>Df Model:</th>              <td>     2</td>      <th>                     </th>     <td> </td>    \n",
                            "</tr>\n",
                            "<tr>\n",
                            "  <th>Covariance Type:</th>      <td>nonrobust</td>    <th>                     </th>     <td> </td>    \n",
                            "</tr>\n",
                            "</table>\n",
                            "<table class=\"simpletable\">\n",
                            "<tr>\n",
                            "      <td></td>        <th>coef</th>     <th>std err</th>      <th>t</th>      <th>P>|t|</th>  <th>[0.025</th>    <th>0.975]</th>  \n",
                            "</tr>\n",
                            "<tr>\n",
                            "  <th>const</th>    <td>    0.5561</td> <td>    0.064</td> <td>    8.684</td> <td> 0.000</td> <td>    0.431</td> <td>    0.682</td>\n",
                            "</tr>\n",
                            "<tr>\n",
                            "  <th>motheduc</th> <td>    0.1310</td> <td>    0.062</td> <td>    2.121</td> <td> 0.034</td> <td>    0.010</td> <td>    0.252</td>\n",
                            "</tr>\n",
                            "<tr>\n",
                            "  <th>sinmom14</th> <td>   -0.1149</td> <td>    0.204</td> <td>   -0.563</td> <td> 0.573</td> <td>   -0.515</td> <td>    0.285</td>\n",
                            "</tr>\n",
                            "</table>\n",
                            "<table class=\"simpletable\">\n",
                            "<tr>\n",
                            "  <th>Omnibus:</th>       <td>4157.081</td> <th>  Durbin-Watson:     </th>  <td>   1.966</td>  \n",
                            "</tr>\n",
                            "<tr>\n",
                            "  <th>Prob(Omnibus):</th>  <td> 0.000</td>  <th>  Jarque-Bera (JB):  </th> <td>8324885.444</td>\n",
                            "</tr>\n",
                            "<tr>\n",
                            "  <th>Skew:</th>           <td>-7.146</td>  <th>  Prob(JB):          </th>  <td>    0.00</td>  \n",
                            "</tr>\n",
                            "<tr>\n",
                            "  <th>Kurtosis:</th>       <td>261.061</td> <th>  Cond. No.          </th>  <td>    3.41</td>  \n",
                            "</tr>\n",
                            "</table><br/><br/>Warnings:<br/>[1] Standard Errors assume that the covariance matrix of the errors is correctly specified."
                        ],
                        "text/plain": [
                            "<class 'statsmodels.iolib.summary.Summary'>\n",
                            "\"\"\"\n",
                            "                            OLS Regression Results                            \n",
                            "==============================================================================\n",
                            "Dep. Variable:                      y   R-squared:                       0.002\n",
                            "Model:                            OLS   Adj. R-squared:                  0.001\n",
                            "Method:                 Least Squares   F-statistic:                     2.637\n",
                            "Date:                Sat, 01 Jun 2019   Prob (F-statistic):             0.0717\n",
                            "Time:                        15:38:55   Log-Likelihood:                -7828.6\n",
                            "No. Observations:                2991   AIC:                         1.566e+04\n",
                            "Df Residuals:                    2988   BIC:                         1.568e+04\n",
                            "Df Model:                           2                                         \n",
                            "Covariance Type:            nonrobust                                         \n",
                            "==============================================================================\n",
                            "                 coef    std err          t      P>|t|      [0.025      0.975]\n",
                            "------------------------------------------------------------------------------\n",
                            "const          0.5561      0.064      8.684      0.000       0.431       0.682\n",
                            "motheduc       0.1310      0.062      2.121      0.034       0.010       0.252\n",
                            "sinmom14      -0.1149      0.204     -0.563      0.573      -0.515       0.285\n",
                            "==============================================================================\n",
                            "Omnibus:                     4157.081   Durbin-Watson:                   1.966\n",
                            "Prob(Omnibus):                  0.000   Jarque-Bera (JB):          8324885.444\n",
                            "Skew:                          -7.146   Prob(JB):                         0.00\n",
                            "Kurtosis:                     261.061   Cond. No.                         3.41\n",
                            "==============================================================================\n",
                            "\n",
                            "Warnings:\n",
                            "[1] Standard Errors assume that the covariance matrix of the errors is correctly specified.\n",
                            "\"\"\""
                        ]
                    },
                    "execution_count": 30,
                    "metadata": {},
                    "output_type": "execute_result"
                }
            ],
            "source": [
                "# To get the statsmodel summary we look at the effect_model, which is\n",
                "# an instance of SubsetWrapper, we look at the model of the SubsetWrapper which is \n",
                "# and instance of the pipeline, we then look at the reg step of the pipeline which is the statsmodel wrapper and\n",
                "# call summary() of the wrapper (most prob there is a better API for this, but we can go with this for now :)\n",
                "proj_dr_cate.effect_model.summary(alpha=.05, xname=['const']+list(X_df.columns[feature_inds]))"
            ]
        },
        {
            "cell_type": "code",
            "execution_count": 31,
            "metadata": {},
            "outputs": [
                {
                    "name": "stdout",
                    "output_type": "stream",
                    "text": [
                        "Estimated Params: 0.5560648374345198, [ 0.13103506 -0.11489838]\n",
                        "True Params: [ 0.61740685  0.14934234 -0.1       ]\n"
                    ]
                }
            ],
            "source": [
                "# We can access the coefficient by looking at the coefficient attribute of the final step of the pipeline\n",
                "print(\"Estimated Params: {}, {}\".format(proj_dr_cate.intercept_, proj_dr_cate.coef_))\n",
                "# True coefficients of projection\n",
                "print(\"True Params: {}\".format(\n",
                "        LinearRegression(fit_intercept=False).fit(PolynomialFeatures(degree=1,\n",
                "                                                                     include_bias=True).fit_transform(X[:, feature_inds]),\n",
                "                                                  true_fn(X_raw)).coef_))"
            ]
        },
        {
            "cell_type": "code",
            "execution_count": 32,
            "metadata": {},
            "outputs": [
                {
                    "name": "stdout",
                    "output_type": "stream",
                    "text": [
                        "Coverage of True Projection: 1.00\n"
                    ]
                },
                {
                    "data": {
                        "image/png": "[encoded data removed]",
                        "text/plain": [
                            "<Figure size 576x432 with 1 Axes>"
                        ]
                    },
                    "metadata": {},
                    "output_type": "display_data"
                }
            ],
            "source": [
                "# We can also evaluate coverage and create prediction intervals using statsmodels attributes\n",
                "from statsmodels.sandbox.regression.predstd import wls_prediction_std\n",
                "res = proj_dr_cate.effect_model.model\n",
                "predictions = res.get_prediction(PolynomialFeatures(degree=1, include_bias=True).fit_transform(X[:, feature_inds]))\n",
                "frame = predictions.summary_frame(alpha=0.05)\n",
                "pred = frame['mean']\n",
                "iv_l = frame['mean_ci_lower']\n",
                "iv_u = frame['mean_ci_upper']\n",
                "\n",
                "# This is the true CATE functions\n",
                "theta_true = true_fn(X_raw)\n",
                "# This is the true projection of the CATE function on the subspace of linear functions of the\n",
                "# subset of the features used in the projection\n",
                "true_proj = LinearRegression().fit(X[:, feature_inds], theta_true).predict(X[:, feature_inds])\n",
                "\n",
                "# Are we covering the true projection\n",
                "covered = (true_proj <= iv_u) & (true_proj >= iv_l)\n",
                "print(\"Coverage of True Projection: {:.2f}\".format(np.mean(covered)))\n",
                "\n",
                "fig, ax = plt.subplots(figsize=(8,6))\n",
                "\n",
                "order = np.argsort(X[:, feature_inds[0]])\n",
                "ax.plot(X[order, feature_inds[0]], iv_u[order], 'r--')\n",
                "ax.plot(X[order, feature_inds[0]], iv_l[order], 'r--')\n",
                "ax.plot(X[order, feature_inds[0]], pred[order], 'g--.', label=\"pred\")\n",
                "ax.plot(X[order, feature_inds[0]], theta_true[order], 'b-', label=\"True\", alpha=.3)\n",
                "ax.plot(X[order, feature_inds[0]], true_proj[order], 'b-', label=\"TrueProj\", alpha=.3)\n",
                "ax.legend(loc='best')\n",
                "plt.show()"
            ]
        },
        {
            "cell_type": "markdown",
            "metadata": {
                "collapsed": true
            },
            "source": [
                "# CATE via Re-Weighted DRIV: DRIV-RW"
            ]
        },
        {
            "cell_type": "markdown",
            "metadata": {},
            "source": [
                "## Lasso CATE"
            ]
        },
        {
            "cell_type": "code",
            "execution_count": 33,
            "metadata": {
                "collapsed": true
            },
            "outputs": [],
            "source": [
                "from dml_iv import DMLIV\n",
                "from dr_iv import DRIV, ProjectedDRIV\n",
                "from utilities import SubsetWrapper, StatsModelLinearRegression, ConstantModel, WeightWrapper\n",
                "from sklearn.dummy import DummyRegressor\n",
                "\n",
                "np.random.seed(random_seed)\n",
                "\n",
                "# For DRIV we need a model for predicting E[T*Z | X]. We use a classifier\n",
                "model_TZ_X = lambda: model()\n",
                "\n",
                "# We also need a model for the final regression that will fit the function theta(X)\n",
                "# This model now needs to accept sample weights at fit time.\n",
                "const_driv_model_effect = lambda: WeightWrapper(Pipeline([('bias', PolynomialFeatures(degree=1, include_bias=True)),\n",
                "                                                          ('reg', SelectiveLasso(np.arange(1, X.shape[1]+1),\n",
                "                                                                                  LassoCV(cv=5, fit_intercept=False)))]))\n",
                "\n",
                "# As in OrthoDMLIV we need a perliminary estimator of the CATE.\n",
                "# We use a DMLIV estimator with no cross-fitting (n_splits=1)\n",
                "dmliv_prel_model_effect = DMLIV(model_Y_X(), model_T_X(), model_T_XZ(),\n",
                "                                dmliv_model_effect(), dmliv_featurizer(),\n",
                "                                n_splits=1, binary_instrument=True, binary_treatment=False)\n",
                "\n",
                "const_dr_cate = DRIV(model_Y_X(), model_T_X(), model_Z_X(), # same as in DMLATEIV\n",
                "                        dmliv_prel_model_effect, # preliminary model for CATE, must support fit(y, T, X, Z) and effect(X)\n",
                "                        model_TZ_X(), # model for E[T * Z | X]\n",
                "                        const_driv_model_effect(), # model for final stage of fitting theta(X)\n",
                "                        cov_clip=COV_CLIP, # covariance clipping to avoid large values in final regression from weak instruments\n",
                "                        n_splits=N_SPLITS, # number of splits to use for cross-fitting\n",
                "                        binary_instrument=True, # a flag whether to stratify cross-fitting by instrument\n",
                "                        binary_treatment=False, # a flag whether to stratify cross-fitting by treatment\n",
                "                        opt_reweighted=True # whether to optimally re-weight samples. Valid only for flexible final model\n",
                "                       )"
            ]
        },
        {
            "cell_type": "code",
            "execution_count": 34,
            "metadata": {},
            "outputs": [
                {
                    "name": "stderr",
                    "output_type": "stream",
                    "text": [
                        "C:\\ProgramData\\Anaconda3\\lib\\site-packages\\sklearn\\linear_model\\coordinate_descent.py:492: ConvergenceWarning: Objective did not converge. You might want to increase the number of iterations. Fitting data with very small alpha may cause precision problems.\n",
                        "  ConvergenceWarning)\n",
                        "C:\\ProgramData\\Anaconda3\\lib\\site-packages\\sklearn\\linear_model\\coordinate_descent.py:492: ConvergenceWarning: Objective did not converge. You might want to increase the number of iterations. Fitting data with very small alpha may cause precision problems.\n",
                        "  ConvergenceWarning)\n",
                        "C:\\ProgramData\\Anaconda3\\lib\\site-packages\\sklearn\\linear_model\\coordinate_descent.py:492: ConvergenceWarning: Objective did not converge. You might want to increase the number of iterations. Fitting data with very small alpha may cause precision problems.\n",
                        "  ConvergenceWarning)\n",
                        "C:\\ProgramData\\Anaconda3\\lib\\site-packages\\sklearn\\linear_model\\coordinate_descent.py:492: ConvergenceWarning: Objective did not converge. You might want to increase the number of iterations. Fitting data with very small alpha may cause precision problems.\n",
                        "  ConvergenceWarning)\n",
                        "C:\\ProgramData\\Anaconda3\\lib\\site-packages\\sklearn\\linear_model\\coordinate_descent.py:492: ConvergenceWarning: Objective did not converge. You might want to increase the number of iterations. Fitting data with very small alpha may cause precision problems.\n",
                        "  ConvergenceWarning)\n"
                    ]
                },
                {
                    "data": {
                        "text/plain": [
                            "<dr_iv.DRIV at 0x225048e3278>"
                        ]
                    },
                    "execution_count": 34,
                    "metadata": {},
                    "output_type": "execute_result"
                }
            ],
            "source": [
                "const_dr_cate.fit(y, T, X, Z, store_final=True)"
            ]
        },
        {
            "cell_type": "code",
            "execution_count": 35,
            "metadata": {},
            "outputs": [
                {
                    "name": "stdout",
                    "output_type": "stream",
                    "text": [
                        "ATE Estimate: 0.612\n",
                        "True ATE: 0.609\n"
                    ]
                }
            ],
            "source": [
                "# We can average the CATE to get an ATE\n",
                "dr_effect = const_dr_cate.effect(X)\n",
                "print(\"ATE Estimate: {:.3f}\".format(np.mean(dr_effect)))\n",
                "print(\"True ATE: {:.3f}\".format(np.mean(true_fn(X_raw))))"
            ]
        },
        {
            "cell_type": "code",
            "execution_count": 36,
            "metadata": {},
            "outputs": [
                {
                    "data": {
                        "image/png": "[encoded data removed]",
                        "text/plain": [
                            "<Figure size 432x288 with 1 Axes>"
                        ]
                    },
                    "metadata": {},
                    "output_type": "display_data"
                }
            ],
            "source": [
                "# We can also see how it compares to the true CATE at each target point and calculate MSE\n",
                "plt.title(\"DMLIV CATE as Function of {}: MSE={:.3f}\".format(X_df.columns[4], np.mean((dr_effect-true_fn(X_raw))**2)))\n",
                "plt.scatter(X[:, 4], dr_effect, label='est')\n",
                "plt.scatter(X[:, 4], true_fn(X_raw), label='true', alpha=.2)\n",
                "plt.legend()\n",
                "plt.show()"
            ]
        },
        {
            "cell_type": "markdown",
            "metadata": {},
            "source": [
                "## Random Forest CATE"
            ]
        },
        {
            "cell_type": "code",
            "execution_count": 37,
            "metadata": {
                "collapsed": true
            },
            "outputs": [],
            "source": [
                "from dml_iv import DMLIV\n",
                "from dr_iv import DRIV, ProjectedDRIV\n",
                "from utilities import SubsetWrapper\n",
                "from sklearn.ensemble import RandomForestRegressor, GradientBoostingRegressor\n",
                "    \n",
                "np.random.seed(random_seed)\n",
                "\n",
                "rf_driv_model_effect = lambda: RandomForestRegressor(n_estimators=5000, max_depth=3, min_impurity_decrease=0.00001,\n",
                "                                                     min_samples_leaf=100, bootstrap=True)"
            ]
        },
        {
            "cell_type": "code",
            "execution_count": 38,
            "metadata": {
                "collapsed": true
            },
            "outputs": [],
            "source": [
                "rf_dr_cate = const_dr_cate.refit_final(rf_driv_model_effect())"
            ]
        },
        {
            "cell_type": "code",
            "execution_count": 39,
            "metadata": {
                "collapsed": true
            },
            "outputs": [],
            "source": [
                "rf_dr_effect = rf_dr_cate.effect(X)"
            ]
        },
        {
            "cell_type": "code",
            "execution_count": 40,
            "metadata": {},
            "outputs": [
                {
                    "name": "stdout",
                    "output_type": "stream",
                    "text": [
                        "ATE Estimate: 0.63\n",
                        "True ATE: 0.61\n"
                    ]
                }
            ],
            "source": [
                "print(\"ATE Estimate: {:.2f}\".format(np.mean(rf_dr_effect)))\n",
                "print(\"True ATE: {:.2f}\".format(np.mean(true_fn(X_raw))))"
            ]
        },
        {
            "cell_type": "code",
            "execution_count": 41,
            "metadata": {},
            "outputs": [
                {
                    "data": {
                        "image/png": "[encoded data removed]",
                        "text/plain": [
                            "<Figure size 432x288 with 1 Axes>"
                        ]
                    },
                    "metadata": {},
                    "output_type": "display_data"
                }
            ],
            "source": [
                "plt.title(\"DRIV CATE: MSE {:.2}\".format(np.mean((true_fn(X_raw) - rf_dr_effect)**2)))\n",
                "plt.scatter(X[:, 4], rf_dr_effect, label='est')\n",
                "plt.scatter(X[:, 4], true_fn(X_raw), label='true', alpha=.2)\n",
                "plt.legend()\n",
                "plt.show()"
            ]
        },
        {
            "cell_type": "code",
            "execution_count": 42,
            "metadata": {},
            "outputs": [
                {
                    "data": {
                        "image/png": "[encoded data removed]",
                        "text/plain": [
                            "<Figure size 1440x216 with 1 Axes>"
                        ]
                    },
                    "metadata": {},
                    "output_type": "display_data"
                }
            ],
            "source": [
                "import shap\n",
                "import pandas as pd\n",
                "\n",
                "Xdf = pd.DataFrame(X, columns=X_df.columns)\n",
                "# explain the model's predictions using SHAP values\n",
                "explainer = shap.TreeExplainer(rf_dr_cate.effect_model)\n",
                "shap_values = explainer.shap_values(Xdf)\n",
                "\n",
                "# visualize the first prediction's explanation (use matplotlib=True to avoid Javascript)\n",
                "shap.force_plot(explainer.expected_value, shap_values[0,:], Xdf.iloc[0,:], matplotlib=True)"
            ]
        },
        {
            "cell_type": "code",
            "execution_count": 43,
            "metadata": {},
            "outputs": [
                {
                    "data": {
                        "image/png": "[encoded data removed]",
                        "text/plain": [
                            "<Figure size 576x684 with 2 Axes>"
                        ]
                    },
                    "metadata": {},
                    "output_type": "display_data"
                }
            ],
            "source": [
                "shap.summary_plot(shap_values, Xdf)"
            ]
        },
        {
            "cell_type": "code",
            "execution_count": 44,
            "metadata": {},
            "outputs": [
                {
                    "data": {
                        "image/png": "[encoded data removed]",
                        "text/plain": [
                            "<Figure size 576x684 with 1 Axes>"
                        ]
                    },
                    "metadata": {},
                    "output_type": "display_data"
                }
            ],
            "source": [
                "shap.summary_plot(shap_values, Xdf, plot_type='bar')"
            ]
        },
        {
            "cell_type": "code",
            "execution_count": null,
            "metadata": {
                "collapsed": true
            },
            "outputs": [],
            "source": []
        }
    ],
    "metadata": {
        "kernelspec": {
            "display_name": "Python 3",
            "language": "python",
            "name": "python3"
        },
        "language_info": {
            "codemirror_mode": {
                "name": "ipython",
                "version": 3
            },
            "file_extension": ".py",
            "mimetype": "text/x-python",
            "name": "python",
            "nbconvert_exporter": "python",
            "pygments_lexer": "ipython3",
            "version": "3.7.4"
        }
    },
    "nbformat": 4,
    "nbformat_minor": 2
}