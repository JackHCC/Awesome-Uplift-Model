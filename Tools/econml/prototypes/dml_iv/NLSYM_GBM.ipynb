{
    "cells": [
        {
            "cell_type": "code",
            "execution_count": 37,
            "metadata": {
                "collapsed": false
            },
            "outputs": [
                {
                    "name": "stdout",
                    "output_type": "stream",
                    "text": [
                        "The autoreload extension is already loaded. To reload it, use:\n",
                        "  %reload_ext autoreload\n"
                    ]
                }
            ],
            "source": [
                "%load_ext autoreload\n",
                "%autoreload 2"
            ]
        },
        {
            "cell_type": "code",
            "execution_count": 38,
            "metadata": {
                "collapsed": true
            },
            "outputs": [],
            "source": [
                "import numpy as np\n",
                "import pandas as pd\n",
                "import matplotlib.pyplot as plt\n",
                "from sklearn.linear_model import LinearRegression, Lasso, LogisticRegression\n",
                "from sklearn.ensemble import GradientBoostingRegressor, GradientBoostingClassifier\n",
                "from sklearn.ensemble import RandomForestRegressor, RandomForestClassifier\n",
                "from sklearn.preprocessing import PolynomialFeatures, StandardScaler\n",
                "from sklearn.pipeline import Pipeline\n",
                "import scipy.special"
            ]
        },
        {
            "cell_type": "markdown",
            "metadata": {},
            "source": [
                "# NLSYM DATA"
            ]
        },
        {
            "cell_type": "code",
            "execution_count": 39,
            "metadata": {
                "collapsed": false
            },
            "outputs": [
                {
                    "name": "stderr",
                    "output_type": "stream",
                    "text": [
                        "C:\\ProgramData\\Anaconda3\\lib\\site-packages\\sklearn\\preprocessing\\data.py:645: DataConversionWarning: Data with input dtype int64, float64 were all converted to float64 by StandardScaler.\n",
                        "  return self.partial_fit(X, y)\n",
                        "C:\\ProgramData\\Anaconda3\\lib\\site-packages\\sklearn\\base.py:464: DataConversionWarning: Data with input dtype int64, float64 were all converted to float64 by StandardScaler.\n",
                        "  return self.fit(X, **fit_params).transform(X)\n"
                    ]
                }
            ],
            "source": [
                "# Preprocess data\n",
                "df = pd.read_csv(\"data/card.csv\")\n",
                "data_filter = df['educ'].values >= 6\n",
                "T = df['educ'].values[data_filter]\n",
                "Z = df['nearc4'].values[data_filter]\n",
                "y = df['lwage'].values[data_filter]\n",
                "\n",
                "# Impute missing values with mean, add dummy columns\n",
                "# I excluded the columns 'weights' as we don't know what it is\n",
                "X_df = df[['exper', 'expersq']].copy()\n",
                "X_df['fatheduc'] = df['fatheduc'].fillna(value=df['fatheduc'].mean())\n",
                "X_df['fatheduc_nan'] = df['fatheduc'].isnull()*1\n",
                "X_df['motheduc'] = df['motheduc'].fillna(value=df['motheduc'].mean())\n",
                "X_df['motheduc_nan'] = df['motheduc'].isnull()*1\n",
                "X_df[['momdad14', 'sinmom14', 'reg661', 'reg662',\n",
                "        'reg663', 'reg664', 'reg665', 'reg666', 'reg667', 'reg668', 'reg669', 'south66']] = df[['momdad14', 'sinmom14', \n",
                "        'reg661', 'reg662','reg663', 'reg664', 'reg665', 'reg666', 'reg667', 'reg668', 'reg669', 'south66']]\n",
                "X_df[['black', 'smsa', 'south', 'smsa66']] = df[['black', 'smsa', 'south', 'smsa66']]\n",
                "columns_to_scale = ['fatheduc', 'motheduc', 'exper', 'expersq']\n",
                "scaler = StandardScaler()\n",
                "X_df[columns_to_scale] = scaler.fit_transform(X_df[columns_to_scale])\n",
                "X = X_df.values[data_filter]\n",
                "\n",
                "true_fn = lambda x: np.zeros(x.shape[0])"
            ]
        },
        {
            "cell_type": "code",
            "execution_count": 40,
            "metadata": {
                "collapsed": false
            },
            "outputs": [
                {
                    "data": {
                        "text/plain": [
                            "Index(['exper', 'expersq', 'fatheduc', 'fatheduc_nan', 'motheduc',\n",
                            "       'motheduc_nan', 'momdad14', 'sinmom14', 'reg661', 'reg662', 'reg663',\n",
                            "       'reg664', 'reg665', 'reg666', 'reg667', 'reg668', 'reg669', 'south66',\n",
                            "       'black', 'smsa', 'south', 'smsa66'],\n",
                            "      dtype='object')"
                        ]
                    },
                    "execution_count": 40,
                    "metadata": {},
                    "output_type": "execute_result"
                }
            ],
            "source": [
                "X_df.columns"
            ]
        },
        {
            "cell_type": "markdown",
            "metadata": {},
            "source": [
                "# ANALYSIS"
            ]
        },
        {
            "cell_type": "markdown",
            "metadata": {},
            "source": [
                "### Defining some hyperparameters"
            ]
        },
        {
            "cell_type": "code",
            "execution_count": 41,
            "metadata": {
                "collapsed": false
            },
            "outputs": [
                {
                    "name": "stdout",
                    "output_type": "stream",
                    "text": [
                        "0.006686726847208292\n"
                    ]
                }
            ],
            "source": [
                "random_seed = 123459 # random seed for each experiment\n",
                "N_SPLITS = 10 # number of splits for cross-fitting\n",
                "COV_CLIP = 20/(X.shape[0]) # covariance clipping in driv\n",
                "print(COV_CLIP)"
            ]
        },
        {
            "cell_type": "markdown",
            "metadata": {},
            "source": [
                "### Defining some generic non-parametric regressors and classifiers"
            ]
        },
        {
            "cell_type": "code",
            "execution_count": 42,
            "metadata": {
                "collapsed": false
            },
            "outputs": [],
            "source": [
                "from utilities import RegWrapper\n",
                "from sklearn.model_selection import GridSearchCV\n",
                "from sklearn.linear_model import LassoCV, LogisticRegressionCV\n",
                "from xgboost import XGBClassifier, XGBRegressor\n",
                "from xgb_utilities import XGBWrapper\n",
                "\n",
                "# XGB forest models for Regression and Classification\n",
                "model = lambda: XGBWrapper(XGBRegressor(gamma=0.001, n_estimators=100, min_child_weight=50, n_jobs=10),\n",
                "                           early_stopping_rounds=5, eval_metric='rmse', binary=False)\n",
                "\n",
                "model_clf = lambda: RegWrapper(XGBWrapper(XGBClassifier(gamma=0.001, n_estimators=100, min_child_weight=50, n_jobs=10),\n",
                "                                          early_stopping_rounds=5, eval_metric='logloss', binary=True))"
            ]
        },
        {
            "cell_type": "markdown",
            "metadata": {},
            "source": [
                "### Some utility functions"
            ]
        },
        {
            "cell_type": "code",
            "execution_count": 43,
            "metadata": {
                "collapsed": true
            },
            "outputs": [],
            "source": [
                "def nuisance_diagnostic(cate, nuisance_model, property_name, property_fn, \n",
                "                        index_names=None, statistic=np.std, threshold=None):\n",
                "    std = statistic([property_fn(ns) for ns in cate.fitted_nuisances[nuisance_model]], axis=0)\n",
                "    if hasattr(std, '__len__'):\n",
                "        if threshold is None:\n",
                "            coefs = np.argmax(std).flatten()\n",
                "        else:\n",
                "            coefs = np.argwhere(std >= threshold).flatten()\n",
                "        if index_names is None:\n",
                "            index_names = np.arange(std.shape[0])\n",
                "        for high_var in coefs:\n",
                "            plt.figure(figsize=(4,3))\n",
                "            plt.title(\"{}: {}[{}] Across Folds\".format(nuisance_model, property_name, index_names[high_var]))\n",
                "            plt.plot([property_fn(ns)[high_var] for ns in cate.fitted_nuisances[nuisance_model]])\n",
                "            plt.xlabel('fold')\n",
                "            plt.ylabel('property')\n",
                "            plt.show()\n",
                "    else:\n",
                "        plt.figure(figsize=(4,3))\n",
                "        plt.title(\"{}: {} Across Folds\".format(nuisance_model, property_name))    \n",
                "        plt.plot([property_fn(ns) for ns in cate.fitted_nuisances[nuisance_model]])\n",
                "        plt.xlabel('fold')\n",
                "        plt.ylabel('property')\n",
                "        plt.show()\n",
                "    "
            ]
        },
        {
            "cell_type": "markdown",
            "metadata": {},
            "source": [
                "# ATE via DMLATEIV"
            ]
        },
        {
            "cell_type": "code",
            "execution_count": 44,
            "metadata": {
                "collapsed": false
            },
            "outputs": [],
            "source": [
                "from dml_ate_iv import DMLATEIV\n",
                "\n",
                "np.random.seed(random_seed)\n",
                "\n",
                "# We need to specify models to be used for each of these residualizations\n",
                "model_Y_X = lambda: model() # model for E[Y | X]\n",
                "model_T_X = lambda: model() # model for E[T | X]. We use a regressor since T is continuous\n",
                "model_Z_X = lambda: model_clf() # model for E[Z | X]. We use a classifier since Z is binary\n",
                "\n",
                "dmlate = DMLATEIV(model_Y_X(), model_T_X(), model_Z_X(),\n",
                "                  n_splits=N_SPLITS, # n_splits determines the number of splits to be used for cross-fitting.\n",
                "                  binary_instrument=True, # a flag whether to stratify cross-fitting by instrument\n",
                "                  binary_treatment=True # a flag whether to stratify cross-fitting by treatment\n",
                "                 )"
            ]
        },
        {
            "cell_type": "code",
            "execution_count": 45,
            "metadata": {
                "collapsed": false
            },
            "outputs": [
                {
                    "name": "stderr",
                    "output_type": "stream",
                    "text": [
                        "C:\\ProgramData\\Anaconda3\\lib\\site-packages\\sklearn\\model_selection\\_split.py:652: Warning: The least populated class in y has only 8 members, which is too few. The minimum number of members in any class cannot be less than n_splits=10.\n",
                        "  % (min_groups, self.n_splits)), Warning)\n"
                    ]
                },
                {
                    "data": {
                        "text/plain": [
                            "<dml_ate_iv.DMLATEIV at 0x1b75873bb70>"
                        ]
                    },
                    "execution_count": 45,
                    "metadata": {},
                    "output_type": "execute_result"
                }
            ],
            "source": [
                "# We fit DMLATEIV with these models\n",
                "dmlate.fit(y, T, X, Z)"
            ]
        },
        {
            "cell_type": "code",
            "execution_count": 46,
            "metadata": {
                "collapsed": true
            },
            "outputs": [],
            "source": [
                "# We call effect() to get the ATE\n",
                "ta_effect = dmlate.effect()"
            ]
        },
        {
            "cell_type": "code",
            "execution_count": 47,
            "metadata": {
                "collapsed": false
            },
            "outputs": [
                {
                    "name": "stdout",
                    "output_type": "stream",
                    "text": [
                        "ATE Estimate: 0.157\n",
                        "Standard error: 0.060\n"
                    ]
                }
            ],
            "source": [
                "# Comparison with true ATE\n",
                "print(\"ATE Estimate: {:.3f}\".format(ta_effect))\n",
                "print(\"Standard error: {:.3f}\".format(dmlate.std))"
            ]
        },
        {
            "cell_type": "code",
            "execution_count": 48,
            "metadata": {
                "collapsed": false
            },
            "outputs": [
                {
                    "name": "stdout",
                    "output_type": "stream",
                    "text": [
                        "ATE Estimate Interval: (0.041, 0.274)\n"
                    ]
                }
            ],
            "source": [
                "# We can call normal_effect_interval to get confidence intervals based\n",
                "# based on the asympotic normal approximation\n",
                "lower, upper = dmlate.normal_effect_interval(lower=2.5, upper=97.5)\n",
                "# Comparison with true ATE\n",
                "print(\"ATE Estimate Interval: ({:.3f}, {:.3f})\".format(lower, upper))"
            ]
        },
        {
            "cell_type": "markdown",
            "metadata": {},
            "source": [
                "# ATE and CATE via DMLIV"
            ]
        },
        {
            "cell_type": "code",
            "execution_count": 49,
            "metadata": {
                "collapsed": true
            },
            "outputs": [],
            "source": [
                "from dml_iv import DMLIV\n",
                "from utilities import SelectiveLasso, SeparateModel\n",
                "from sklearn.linear_model import LassoCV, LogisticRegressionCV\n",
                "from econml.utilities import hstack\n",
                "\n",
                "np.random.seed(random_seed)\n",
                "\n",
                "# For DMLIV we also need a model for E[T | X, Z]. To allow for heterogeneity in the compliance, i.e.\n",
                "# T = beta(X)*Z + gamma(X)\n",
                "# we train a separate model for Z=1 and Z=0. The model for Z=1 learns the\n",
                "# quantity beta(X) + gamma(X) and the model for Z=0 learns gamma(X).\n",
                "model_T_XZ = lambda: SeparateModel(model(), model())\n",
                "\n",
                "# We now specify the features to be used for heterogeneity. We will fit a CATE model of the form\n",
                "#      theta(X) = <theta, phi(X)>\n",
                "# for some set of features phi(X). The featurizer needs to support fit_transform, that takes\n",
                "# X and returns phi(X). We need to include a bias if we also want a constant term.\n",
                "dmliv_featurizer = lambda: PolynomialFeatures(degree=1, include_bias=True)\n",
                "\n",
                "# Then we need to specify a model to be used for fitting the parameters theta in the linear form.\n",
                "# This model will minimize the square loss:\n",
                "#        (Y - E[Y|X] - <theta, phi(X)> * (E[T|X,Z] - E[T|X]))**2\n",
                "dmliv_model_effect = lambda: LinearRegression(fit_intercept=False)\n",
                "\n",
                "\n",
                "# Potentially with some regularization on theta. Here we use an ell_1 penalty on theta\n",
                "# If we also have a prior that there is no effect heterogeneity we can use a selective lasso\n",
                "# that does not penalize the constant term in the CATE model\n",
                "#dmliv_model_effect = lambda: SelectiveLasso(np.arange(1, X.shape[1]+1), LassoCV(cv=5, fit_intercept=False))\n",
                "\n",
                "\n",
                "# We initialize DMLIV with all these models and call fit\n",
                "cate = DMLIV(model_Y_X(), model_T_X(), model_T_XZ(), \n",
                "             dmliv_model_effect(), dmliv_featurizer(),\n",
                "             n_splits=N_SPLITS, # number of splits to use for cross-fitting\n",
                "             binary_instrument=True, # a flag whether to stratify cross-fitting by instrument\n",
                "             binary_treatment=True # a flag whether to stratify cross-fitting by treatment\n",
                "            )"
            ]
        },
        {
            "cell_type": "code",
            "execution_count": 50,
            "metadata": {
                "collapsed": false
            },
            "outputs": [
                {
                    "name": "stderr",
                    "output_type": "stream",
                    "text": [
                        "C:\\ProgramData\\Anaconda3\\lib\\site-packages\\sklearn\\model_selection\\_split.py:652: Warning: The least populated class in y has only 8 members, which is too few. The minimum number of members in any class cannot be less than n_splits=10.\n",
                        "  % (min_groups, self.n_splits)), Warning)\n"
                    ]
                },
                {
                    "data": {
                        "text/plain": [
                            "<dml_iv.DMLIV at 0x1b7587c1588>"
                        ]
                    },
                    "execution_count": 50,
                    "metadata": {},
                    "output_type": "execute_result"
                }
            ],
            "source": [
                "cate.fit(y, T, X, Z)"
            ]
        },
        {
            "cell_type": "code",
            "execution_count": 51,
            "metadata": {
                "collapsed": false
            },
            "outputs": [
                {
                    "data": {
                        "image/png": "[encoded data removed]",
                        "text/plain": [
                            "<Figure size 576x396 with 1 Axes>"
                        ]
                    },
                    "metadata": {},
                    "output_type": "display_data"
                }
            ],
            "source": [
                "# To get the CATE at every X we call effect(X)\n",
                "dml_effect = cate.effect(X)\n",
                "plt.hist(dml_effect, label='est')\n",
                "plt.legend()\n",
                "plt.show()"
            ]
        },
        {
            "cell_type": "code",
            "execution_count": 52,
            "metadata": {
                "collapsed": false
            },
            "outputs": [
                {
                    "name": "stdout",
                    "output_type": "stream",
                    "text": [
                        "[ 0.05854357  0.09525829 -0.09525865  0.02605133  0.0096557  -0.00424164\n",
                        "  0.06109043 -0.03009112 -0.03460873  0.0677044  -0.02577201  0.00583535\n",
                        "  0.07245171 -0.02756375  0.00314271  0.01737084  0.07879138 -0.13341706\n",
                        " -0.0070502  -0.03338776  0.07776467  0.02455005 -0.09374658]\n",
                        "NA\n"
                    ]
                }
            ],
            "source": [
                "# To get the parameter theta we call coef_. The first entry is the intercept of the CATE model\n",
                "print(cate.coef_)\n",
                "try:\n",
                "    print(cate.effect_model.lasso_model.alpha_)\n",
                "    plt.plot(cate.effect_model.lasso_model.alphas_, cate.effect_model.lasso_model.mse_path_)\n",
                "    plt.show()\n",
                "except:\n",
                "    print(\"NA\")"
            ]
        },
        {
            "cell_type": "code",
            "execution_count": 53,
            "metadata": {
                "collapsed": false
            },
            "outputs": [
                {
                    "name": "stdout",
                    "output_type": "stream",
                    "text": [
                        "ATE Estimate: 0.026\n"
                    ]
                }
            ],
            "source": [
                "# We can average the CATE to get an ATE\n",
                "print(\"ATE Estimate: {:.3f}\".format(np.mean(dml_effect)))"
            ]
        },
        {
            "cell_type": "code",
            "execution_count": 54,
            "metadata": {
                "collapsed": false
            },
            "outputs": [
                {
                    "data": {
                        "image/png": "[encoded data removed]",
                        "text/plain": [
                            "<Figure size 576x396 with 1 Axes>"
                        ]
                    },
                    "metadata": {},
                    "output_type": "display_data"
                }
            ],
            "source": [
                "# We can also see how it compares to the true CATE at each target point and calculate MSE\n",
                "plt.title(\"DMLIV CATE as Function of {}\".format(X_df.columns[np.argmax(np.abs(cate.coef_[1:]))]))\n",
                "plt.scatter(X[:, np.argmax(np.abs(cate.coef_[1:]))], dml_effect, label='est')\n",
                "plt.scatter(X[:, np.argmax(np.abs(cate.coef_[1:]))], true_fn(X), label='true', alpha=.2)\n",
                "plt.legend()\n",
                "plt.show()"
            ]
        },
        {
            "cell_type": "markdown",
            "metadata": {},
            "source": [
                "#### Some Diagnostics of the Fitted Nuisance Models Across Folds"
            ]
        },
        {
            "cell_type": "code",
            "execution_count": 55,
            "metadata": {
                "collapsed": false
            },
            "outputs": [
                {
                    "name": "stdout",
                    "output_type": "stream",
                    "text": [
                        "Unavailable\n"
                    ]
                }
            ],
            "source": [
                "# The property .fitted_nuisances is a dictionary of the form:\n",
                "# {'name_of_nuisance': [fitted_model_fold_1, fitted_model_fold_2, ...]}\n",
                "# then we can access all properties of each of the fitted models for each fold.\n",
                "# If for instance all nuisances have a linear form we can look at the standard deviation\n",
                "# of the coefficients of each of the nuisance model across folds to check for stability\n",
                "try:\n",
                "    nuisance_diagnostic(cate, 'model_T_XZ', 'coef', lambda ns: ns.coef_.flatten(),\n",
                "                        [c+\"_0\" for c in X_df.columns] + [c+\"_1\" for c in X_df.columns])\n",
                "    nuisance_diagnostic(cate, 'model_T_X', 'coef', lambda ns: ns.coef_.flatten(), X_df.columns)\n",
                "    nuisance_diagnostic(cate, 'model_Y_X', 'coef', lambda ns: ns.coef_.flatten(), X_df.columns)\n",
                "except:\n",
                "    print(\"Unavailable\")"
            ]
        },
        {
            "cell_type": "code",
            "execution_count": 56,
            "metadata": {
                "collapsed": false,
                "scrolled": false
            },
            "outputs": [
                {
                    "name": "stdout",
                    "output_type": "stream",
                    "text": [
                        "Unavailable\n"
                    ]
                }
            ],
            "source": [
                "try:\n",
                "    for i in range(N_SPLITS):\n",
                "        plt.plot([c0 - c1 for c0, c1 in zip(cate.fitted_nuisances['model_T_XZ'][i].model0.coef_.flatten(),\n",
                "              cate.fitted_nuisances['model_T_XZ'][i].model1.coef_.flatten())])\n",
                "    \n",
                "    plt.title(\"Difference in coefficients betwen model0 and model1\")\n",
                "    plt.show()\n",
                "except:\n",
                "    print(\"Unavailable\")"
            ]
        },
        {
            "cell_type": "markdown",
            "metadata": {},
            "source": [
                "# ATE via DRIV"
            ]
        },
        {
            "cell_type": "code",
            "execution_count": 57,
            "metadata": {
                "collapsed": true
            },
            "outputs": [],
            "source": [
                "from dml_iv import DMLIV\n",
                "from dr_iv import DRIV, ProjectedDRIV\n",
                "from utilities import SubsetWrapper, StatsModelLinearRegression, ConstantModel\n",
                "from sklearn.dummy import DummyRegressor\n",
                "\n",
                "np.random.seed(random_seed)\n",
                "\n",
                "# For DRIV we need a model for predicting E[T*Z | X]. We use a classifier\n",
                "model_TZ_X = lambda: model()\n",
                "\n",
                "# We also need a model for the final regression that will fit the function theta(X)\n",
                "# If we want to fit an ATE, we simply fit a constant functin theta(X) = theta\n",
                "# We can do this with a pipeline where the preprocessing step only creates a bias column\n",
                "# and the regression step fits a linear regression with no intercept.\n",
                "# To get normal confidence intervals easily we can use a statsmodels linear regression\n",
                "# wrapped in an sklearn interface\n",
                "const_driv_model_effect = lambda: ConstantModel()\n",
                "\n",
                "# As in OrthoDMLIV we need a perliminary estimator of the CATE.\n",
                "# We use a DMLIV estimator with no cross-fitting (n_splits=1)\n",
                "dmliv_prel_model_effect = DMLIV(model_Y_X(), model_T_X(), model_T_XZ(),\n",
                "                                dmliv_model_effect(), dmliv_featurizer(),\n",
                "                                n_splits=1, binary_instrument=True, binary_treatment=True)\n",
                "\n",
                "const_dr_cate = DRIV(model_Y_X(), model_T_X(), model_Z_X(), # same as in DMLATEIV\n",
                "                        dmliv_prel_model_effect, # preliminary model for CATE, must support fit(y, T, X, Z) and effect(X)\n",
                "                        model_TZ_X(), # model for E[T * Z | X]\n",
                "                        const_driv_model_effect(), # model for final stage of fitting theta(X)\n",
                "                        cov_clip=COV_CLIP, # covariance clipping to avoid large values in final regression from weak instruments\n",
                "                        n_splits=N_SPLITS, # number of splits to use for cross-fitting\n",
                "                        binary_instrument=True, # a flag whether to stratify cross-fitting by instrument\n",
                "                        binary_treatment=True # a flag whether to stratify cross-fitting by treatment\n",
                "                       )"
            ]
        },
        {
            "cell_type": "code",
            "execution_count": 58,
            "metadata": {
                "collapsed": false
            },
            "outputs": [
                {
                    "name": "stderr",
                    "output_type": "stream",
                    "text": [
                        "C:\\ProgramData\\Anaconda3\\lib\\site-packages\\sklearn\\model_selection\\_split.py:652: Warning: The least populated class in y has only 8 members, which is too few. The minimum number of members in any class cannot be less than n_splits=10.\n",
                        "  % (min_groups, self.n_splits)), Warning)\n"
                    ]
                },
                {
                    "data": {
                        "text/plain": [
                            "<dr_iv.DRIV at 0x1b75c7d97f0>"
                        ]
                    },
                    "execution_count": 58,
                    "metadata": {},
                    "output_type": "execute_result"
                }
            ],
            "source": [
                "const_dr_cate.fit(y, T, X, Z, store_final=True)"
            ]
        },
        {
            "cell_type": "code",
            "execution_count": 59,
            "metadata": {
                "collapsed": false
            },
            "outputs": [
                {
                    "name": "stderr",
                    "output_type": "stream",
                    "text": [
                        "C:\\ProgramData\\Anaconda3\\lib\\site-packages\\statsmodels\\regression\\linear_model.py:1554: RuntimeWarning: divide by zero encountered in double_scalars\n",
                        "  return self.ess/self.df_model\n"
                    ]
                },
                {
                    "data": {
                        "text/html": [
                            "<table class=\"simpletable\">\n",
                            "<caption>OLS Regression Results</caption>\n",
                            "<tr>\n",
                            "  <th>Dep. Variable:</th>            <td>y</td>        <th>  R-squared:         </th> <td>   0.000</td> \n",
                            "</tr>\n",
                            "<tr>\n",
                            "  <th>Model:</th>                   <td>OLS</td>       <th>  Adj. R-squared:    </th> <td>   0.000</td> \n",
                            "</tr>\n",
                            "<tr>\n",
                            "  <th>Method:</th>             <td>Least Squares</td>  <th>  F-statistic:       </th> <td>     inf</td> \n",
                            "</tr>\n",
                            "<tr>\n",
                            "  <th>Date:</th>             <td>Sat, 01 Jun 2019</td> <th>  Prob (F-statistic):</th>  <td>   nan</td>  \n",
                            "</tr>\n",
                            "<tr>\n",
                            "  <th>Time:</th>                 <td>16:53:34</td>     <th>  Log-Likelihood:    </th> <td> -6595.4</td> \n",
                            "</tr>\n",
                            "<tr>\n",
                            "  <th>No. Observations:</th>      <td>  2991</td>      <th>  AIC:               </th> <td>1.319e+04</td>\n",
                            "</tr>\n",
                            "<tr>\n",
                            "  <th>Df Residuals:</th>          <td>  2990</td>      <th>  BIC:               </th> <td>1.320e+04</td>\n",
                            "</tr>\n",
                            "<tr>\n",
                            "  <th>Df Model:</th>              <td>     0</td>      <th>                     </th>     <td> </td>    \n",
                            "</tr>\n",
                            "<tr>\n",
                            "  <th>Covariance Type:</th>      <td>nonrobust</td>    <th>                     </th>     <td> </td>    \n",
                            "</tr>\n",
                            "</table>\n",
                            "<table class=\"simpletable\">\n",
                            "<tr>\n",
                            "    <td></td>       <th>coef</th>     <th>std err</th>      <th>t</th>      <th>P>|t|</th>  <th>[0.025</th>    <th>0.975]</th>  \n",
                            "</tr>\n",
                            "<tr>\n",
                            "  <th>const</th> <td>    0.0413</td> <td>    0.040</td> <td>    1.030</td> <td> 0.303</td> <td>   -0.037</td> <td>    0.120</td>\n",
                            "</tr>\n",
                            "</table>\n",
                            "<table class=\"simpletable\">\n",
                            "<tr>\n",
                            "  <th>Omnibus:</th>       <td>3168.820</td> <th>  Durbin-Watson:     </th>  <td>   2.012</td>  \n",
                            "</tr>\n",
                            "<tr>\n",
                            "  <th>Prob(Omnibus):</th>  <td> 0.000</td>  <th>  Jarque-Bera (JB):  </th> <td>4187875.949</td>\n",
                            "</tr>\n",
                            "<tr>\n",
                            "  <th>Skew:</th>           <td>-4.201</td>  <th>  Prob(JB):          </th>  <td>    0.00</td>  \n",
                            "</tr>\n",
                            "<tr>\n",
                            "  <th>Kurtosis:</th>       <td>186.121</td> <th>  Cond. No.          </th>  <td>    1.00</td>  \n",
                            "</tr>\n",
                            "</table><br/><br/>Warnings:<br/>[1] Standard Errors assume that the covariance matrix of the errors is correctly specified."
                        ],
                        "text/plain": [
                            "<class 'statsmodels.iolib.summary.Summary'>\n",
                            "\"\"\"\n",
                            "                            OLS Regression Results                            \n",
                            "==============================================================================\n",
                            "Dep. Variable:                      y   R-squared:                       0.000\n",
                            "Model:                            OLS   Adj. R-squared:                  0.000\n",
                            "Method:                 Least Squares   F-statistic:                       inf\n",
                            "Date:                Sat, 01 Jun 2019   Prob (F-statistic):                nan\n",
                            "Time:                        16:53:34   Log-Likelihood:                -6595.4\n",
                            "No. Observations:                2991   AIC:                         1.319e+04\n",
                            "Df Residuals:                    2990   BIC:                         1.320e+04\n",
                            "Df Model:                           0                                         \n",
                            "Covariance Type:            nonrobust                                         \n",
                            "==============================================================================\n",
                            "                 coef    std err          t      P>|t|      [0.025      0.975]\n",
                            "------------------------------------------------------------------------------\n",
                            "const          0.0413      0.040      1.030      0.303      -0.037       0.120\n",
                            "==============================================================================\n",
                            "Omnibus:                     3168.820   Durbin-Watson:                   2.012\n",
                            "Prob(Omnibus):                  0.000   Jarque-Bera (JB):          4187875.949\n",
                            "Skew:                          -4.201   Prob(JB):                         0.00\n",
                            "Kurtosis:                     186.121   Cond. No.                         1.00\n",
                            "==============================================================================\n",
                            "\n",
                            "Warnings:\n",
                            "[1] Standard Errors assume that the covariance matrix of the errors is correctly specified.\n",
                            "\"\"\""
                        ]
                    },
                    "execution_count": 59,
                    "metadata": {},
                    "output_type": "execute_result"
                }
            ],
            "source": [
                "# To get the statsmodel summary we look at the effect_model, which is the pipeline, we then look\n",
                "# at the reg step of the pipeline which is the statsmodel wrapper and then we look\n",
                "# at the model attribute of the statsmodel wrapper and print the summary()\n",
                "const_dr_cate.effect_model.summary()"
            ]
        },
        {
            "cell_type": "markdown",
            "metadata": {},
            "source": [
                "#### Some diagnostics of the fitted nuisance models across folds"
            ]
        },
        {
            "cell_type": "code",
            "execution_count": 60,
            "metadata": {
                "collapsed": false
            },
            "outputs": [
                {
                    "name": "stdout",
                    "output_type": "stream",
                    "text": [
                        "Model prel_model_effect max std of coefs: 0.06628579876493147\n"
                    ]
                }
            ],
            "source": [
                "# The property .fitted_nuisances is a dictionary of the form:\n",
                "# {'name_of_nuisance': [fitted_model_fold_1, fitted_model_fold_2, ...]}\n",
                "# then we can access all properties of each of the fitted models for each fold.\n",
                "# If for instance all nuisances have a linear form we can look at the standard deviation\n",
                "# of the coefficients of each of the nuisance model across folds to check for stability\n",
                "try:\n",
                "    [print(\"Model {} max std of coefs: {}\".format(name,\n",
                "                                                  np.max(np.std([ns.coef_ for ns in nuisance_insts], axis=0)))) \n",
                "     if hasattr(nuisance_insts[0], 'coef_') else None\n",
                "     for name, nuisance_insts in const_dr_cate.fitted_nuisances.items()]\n",
                "except:\n",
                "    print(\"Unavailable\")"
            ]
        },
        {
            "cell_type": "code",
            "execution_count": 61,
            "metadata": {
                "collapsed": false
            },
            "outputs": [
                {
                    "name": "stdout",
                    "output_type": "stream",
                    "text": [
                        "Unavailable\n"
                    ]
                }
            ],
            "source": [
                "try:\n",
                "    nuisance_diagnostic(const_dr_cate, 'model_TZ_X', 'coef', lambda ns: ns.coef_.flatten(), X_df.columns)\n",
                "    nuisance_diagnostic(const_dr_cate, 'model_TZ_X', 'predict', lambda ns: ns.predict(X), np.arange(X.shape[0]))\n",
                "    nuisance_diagnostic(const_dr_cate, 'model_T_X', 'coef', lambda ns: ns.coef_.flatten(), X_df.columns)\n",
                "    nuisance_diagnostic(const_dr_cate, 'prel_model_effect', 'effect', lambda ns: ns.effect(X), np.arange(X.shape[0]))\n",
                "except:\n",
                "    print(\"Unavailable\")"
            ]
        },
        {
            "cell_type": "markdown",
            "metadata": {},
            "source": [
                "## Projecting CATE to a pre-chosen subset of variables in final model"
            ]
        },
        {
            "cell_type": "code",
            "execution_count": 62,
            "metadata": {
                "collapsed": false
            },
            "outputs": [
                {
                    "name": "stdout",
                    "output_type": "stream",
                    "text": [
                        "[4]\n"
                    ]
                }
            ],
            "source": [
                "from dml_iv import DMLIV\n",
                "from dr_iv import DRIV, ProjectedDRIV\n",
                "from utilities import SubsetWrapper\n",
                "\n",
                "np.random.seed(random_seed)\n",
                "\n",
                "# We could also fit a projection on a subset of the features by using the\n",
                "# subset wrapper from our utilities.\n",
                "\n",
                "# Example: including everything for expository purposes, but any array_like of indices would work\n",
                "subset_names = set(['motheduc'])\n",
                "# list of indices of features X to use in the final model\n",
                "feature_inds = np.argwhere([(x in subset_names) for x in X_df.columns.values]).flatten()\n",
                "print(feature_inds)\n",
                "# Because we are projecting to a low dimensional model space, we can\n",
                "# do valid inference and we can use statsmodel linear regression to get all\n",
                "# the hypothesis testing capability\n",
                "proj_driv_model_effect = lambda: SubsetWrapper(StatsModelLinearRegression(),\n",
                "                                          feature_inds # list of indices of features X to use in the final model\n",
                "                                         )"
            ]
        },
        {
            "cell_type": "code",
            "execution_count": 63,
            "metadata": {
                "collapsed": true
            },
            "outputs": [],
            "source": [
                "proj_dr_cate = const_dr_cate.refit_final(proj_driv_model_effect())"
            ]
        },
        {
            "cell_type": "code",
            "execution_count": 64,
            "metadata": {
                "collapsed": true
            },
            "outputs": [],
            "source": [
                "# To get the CATE at every X we call effect(X[:, feature_inds])\n",
                "proj_dr_effect = proj_dr_cate.effect(X[:, feature_inds])"
            ]
        },
        {
            "cell_type": "code",
            "execution_count": 65,
            "metadata": {
                "collapsed": false
            },
            "outputs": [
                {
                    "data": {
                        "text/html": [
                            "<table class=\"simpletable\">\n",
                            "<caption>OLS Regression Results</caption>\n",
                            "<tr>\n",
                            "  <th>Dep. Variable:</th>            <td>y</td>        <th>  R-squared:         </th> <td>   0.001</td> \n",
                            "</tr>\n",
                            "<tr>\n",
                            "  <th>Model:</th>                   <td>OLS</td>       <th>  Adj. R-squared:    </th> <td>   0.000</td> \n",
                            "</tr>\n",
                            "<tr>\n",
                            "  <th>Method:</th>             <td>Least Squares</td>  <th>  F-statistic:       </th> <td>   1.538</td> \n",
                            "</tr>\n",
                            "<tr>\n",
                            "  <th>Date:</th>             <td>Sat, 01 Jun 2019</td> <th>  Prob (F-statistic):</th>  <td> 0.215</td>  \n",
                            "</tr>\n",
                            "<tr>\n",
                            "  <th>Time:</th>                 <td>16:53:35</td>     <th>  Log-Likelihood:    </th> <td> -6594.7</td> \n",
                            "</tr>\n",
                            "<tr>\n",
                            "  <th>No. Observations:</th>      <td>  2991</td>      <th>  AIC:               </th> <td>1.319e+04</td>\n",
                            "</tr>\n",
                            "<tr>\n",
                            "  <th>Df Residuals:</th>          <td>  2989</td>      <th>  BIC:               </th> <td>1.321e+04</td>\n",
                            "</tr>\n",
                            "<tr>\n",
                            "  <th>Df Model:</th>              <td>     1</td>      <th>                     </th>     <td> </td>    \n",
                            "</tr>\n",
                            "<tr>\n",
                            "  <th>Covariance Type:</th>      <td>nonrobust</td>    <th>                     </th>     <td> </td>    \n",
                            "</tr>\n",
                            "</table>\n",
                            "<table class=\"simpletable\">\n",
                            "<tr>\n",
                            "      <td></td>        <th>coef</th>     <th>std err</th>      <th>t</th>      <th>P>|t|</th>  <th>[0.025</th>    <th>0.975]</th>  \n",
                            "</tr>\n",
                            "<tr>\n",
                            "  <th>const</th>    <td>    0.0418</td> <td>    0.040</td> <td>    1.042</td> <td> 0.298</td> <td>   -0.037</td> <td>    0.121</td>\n",
                            "</tr>\n",
                            "<tr>\n",
                            "  <th>motheduc</th> <td>   -0.0502</td> <td>    0.040</td> <td>   -1.240</td> <td> 0.215</td> <td>   -0.129</td> <td>    0.029</td>\n",
                            "</tr>\n",
                            "</table>\n",
                            "<table class=\"simpletable\">\n",
                            "<tr>\n",
                            "  <th>Omnibus:</th>       <td>3179.942</td> <th>  Durbin-Watson:     </th>  <td>   2.012</td>  \n",
                            "</tr>\n",
                            "<tr>\n",
                            "  <th>Prob(Omnibus):</th>  <td> 0.000</td>  <th>  Jarque-Bera (JB):  </th> <td>4188762.287</td>\n",
                            "</tr>\n",
                            "<tr>\n",
                            "  <th>Skew:</th>           <td>-4.231</td>  <th>  Prob(JB):          </th>  <td>    0.00</td>  \n",
                            "</tr>\n",
                            "<tr>\n",
                            "  <th>Kurtosis:</th>       <td>186.137</td> <th>  Cond. No.          </th>  <td>    1.01</td>  \n",
                            "</tr>\n",
                            "</table><br/><br/>Warnings:<br/>[1] Standard Errors assume that the covariance matrix of the errors is correctly specified."
                        ],
                        "text/plain": [
                            "<class 'statsmodels.iolib.summary.Summary'>\n",
                            "\"\"\"\n",
                            "                            OLS Regression Results                            \n",
                            "==============================================================================\n",
                            "Dep. Variable:                      y   R-squared:                       0.001\n",
                            "Model:                            OLS   Adj. R-squared:                  0.000\n",
                            "Method:                 Least Squares   F-statistic:                     1.538\n",
                            "Date:                Sat, 01 Jun 2019   Prob (F-statistic):              0.215\n",
                            "Time:                        16:53:35   Log-Likelihood:                -6594.7\n",
                            "No. Observations:                2991   AIC:                         1.319e+04\n",
                            "Df Residuals:                    2989   BIC:                         1.321e+04\n",
                            "Df Model:                           1                                         \n",
                            "Covariance Type:            nonrobust                                         \n",
                            "==============================================================================\n",
                            "                 coef    std err          t      P>|t|      [0.025      0.975]\n",
                            "------------------------------------------------------------------------------\n",
                            "const          0.0418      0.040      1.042      0.298      -0.037       0.121\n",
                            "motheduc      -0.0502      0.040     -1.240      0.215      -0.129       0.029\n",
                            "==============================================================================\n",
                            "Omnibus:                     3179.942   Durbin-Watson:                   2.012\n",
                            "Prob(Omnibus):                  0.000   Jarque-Bera (JB):          4188762.287\n",
                            "Skew:                          -4.231   Prob(JB):                         0.00\n",
                            "Kurtosis:                     186.137   Cond. No.                         1.01\n",
                            "==============================================================================\n",
                            "\n",
                            "Warnings:\n",
                            "[1] Standard Errors assume that the covariance matrix of the errors is correctly specified.\n",
                            "\"\"\""
                        ]
                    },
                    "execution_count": 65,
                    "metadata": {},
                    "output_type": "execute_result"
                }
            ],
            "source": [
                "# To get the statsmodel summary we look at the effect_model, which is\n",
                "# an instance of SubsetWrapper, we look at the model of the SubsetWrapper which is \n",
                "# and instance of the pipeline, we then look at the reg step of the pipeline which is the statsmodel wrapper and\n",
                "# call summary() of the wrapper (most prob there is a better API for this, but we can go with this for now :)\n",
                "proj_dr_cate.effect_model.summary(alpha=.05, xname=['const']+list(X_df.columns[feature_inds]))"
            ]
        },
        {
            "cell_type": "code",
            "execution_count": 66,
            "metadata": {
                "collapsed": false
            },
            "outputs": [
                {
                    "data": {
                        "image/png": "[encoded data removed]",
                        "text/plain": [
                            "<Figure size 216x288 with 1 Axes>"
                        ]
                    },
                    "metadata": {},
                    "output_type": "display_data"
                }
            ],
            "source": [
                "# We can also evaluate coverage and create prediction intervals using statsmodels attributes\n",
                "import statsmodels.api as sm\n",
                "from statsmodels.sandbox.regression.predstd import wls_prediction_std\n",
                "res = proj_dr_cate.effect_model.model\n",
                "predictions = res.get_prediction(PolynomialFeatures(degree=1, include_bias=True).fit_transform(X[:, feature_inds]))\n",
                "frame = predictions.summary_frame(alpha=0.05)\n",
                "pred = frame['mean']\n",
                "iv_l = frame['mean_ci_lower']\n",
                "iv_u = frame['mean_ci_upper']\n",
                "\n",
                "fig, ax = plt.subplots(figsize=(3,4))\n",
                "order = np.argsort(X[:, feature_inds[0]])\n",
                "ax.plot(X[order, feature_inds[0]], iv_u[order], 'C3--', label=\"Upper 95% CI\")\n",
                "ax.plot(X[order, feature_inds[0]], iv_l[order], 'C3--', label=\"Lower 95% CI\")\n",
                "ax.plot(X[order, feature_inds[0]], pred[order], 'C0--.', label=\"Prediction\")\n",
                "ax.legend(loc='best')\n",
                "plt.xlabel(\"Mother's Education (scaled)\")\n",
                "plt.ylabel(\"Treatment Effect\")\n",
                "#plt.savefig(\"NLSYM_momeduc_linear_projection_2.pdf\", dpi=300, bbox_inches='tight')\n",
                "plt.show()"
            ]
        },
        {
            "cell_type": "markdown",
            "metadata": {},
            "source": [
                "## Random Forest Based CATE and Tree Explainer"
            ]
        },
        {
            "cell_type": "code",
            "execution_count": 67,
            "metadata": {
                "collapsed": true
            },
            "outputs": [],
            "source": [
                "from dml_iv import DMLIV\n",
                "from dr_iv import DRIV, ProjectedDRIV\n",
                "from utilities import SubsetWrapper\n",
                "from sklearn.ensemble import RandomForestRegressor, GradientBoostingRegressor\n",
                "\n",
                "np.random.seed(random_seed)\n",
                "\n",
                "rf_driv_model_effect = lambda: RandomForestRegressor(n_estimators=5000, max_depth=2, min_impurity_decrease=0.01,\n",
                "                                                     min_samples_leaf=100, bootstrap=True)"
            ]
        },
        {
            "cell_type": "code",
            "execution_count": 68,
            "metadata": {
                "collapsed": true
            },
            "outputs": [],
            "source": [
                "rf_dr_cate = const_dr_cate.refit_final(rf_driv_model_effect())"
            ]
        },
        {
            "cell_type": "code",
            "execution_count": 69,
            "metadata": {
                "collapsed": false
            },
            "outputs": [
                {
                    "name": "stderr",
                    "output_type": "stream",
                    "text": [
                        "C:\\ProgramData\\Anaconda3\\lib\\site-packages\\matplotlib\\axes\\_axes.py:6521: MatplotlibDeprecationWarning: \n",
                        "The 'normed' kwarg was deprecated in Matplotlib 2.1 and will be removed in 3.1. Use 'density' instead.\n",
                        "  alternative=\"'density'\", removal=\"3.1\")\n"
                    ]
                },
                {
                    "data": {
                        "image/png": "[encoded data removed]",
                        "text/plain": [
                            "<Figure size 216x288 with 1 Axes>"
                        ]
                    },
                    "metadata": {},
                    "output_type": "display_data"
                }
            ],
            "source": [
                "import seaborn as sns\n",
                "\n",
                "rf_dr_effect = rf_dr_cate.effect(X)\n",
                "plt.figure(figsize=(3,4))\n",
                "sns.distplot(rf_dr_effect)\n",
                "plt.xlabel(\"Treatment Effect\")\n",
                "plt.ylabel(\"Frequency\")\n",
                "plt.savefig(\"NLSYM_hte_distribution_2.pdf\", dpi=300, bbox_inches='tight')\n",
                "plt.show()"
            ]
        },
        {
            "cell_type": "code",
            "execution_count": 70,
            "metadata": {
                "collapsed": false
            },
            "outputs": [
                {
                    "data": {
                        "image/png": "[encoded data removed]",
                        "text/plain": [
                            "<Figure size 1440x216 with 1 Axes>"
                        ]
                    },
                    "metadata": {},
                    "output_type": "display_data"
                }
            ],
            "source": [
                "import shap\n",
                "import pandas as pd\n",
                "\n",
                "Xdf = pd.DataFrame(X, columns=X_df.columns)\n",
                "# explain the model's predictions using SHAP values\n",
                "explainer = shap.TreeExplainer(rf_dr_cate.effect_model)\n",
                "shap_values = explainer.shap_values(Xdf)\n",
                "\n",
                "# visualize the first prediction's explanation (use matplotlib=True to avoid Javascript)\n",
                "shap.force_plot(explainer.expected_value, shap_values[0,:], Xdf.iloc[0,:], matplotlib=True)"
            ]
        },
        {
            "cell_type": "code",
            "execution_count": 71,
            "metadata": {
                "collapsed": false
            },
            "outputs": [
                {
                    "data": {
                        "image/png": "[encoded data removed]",
                        "text/plain": [
                            "<Figure size 288x288 with 2 Axes>"
                        ]
                    },
                    "metadata": {},
                    "output_type": "display_data"
                }
            ],
            "source": [
                "plt.figure(figsize=(4,4))\n",
                "shap.summary_plot(shap_values, Xdf, plot_type=\"violin\", max_display=10, show=False, auto_size_plot=False)\n",
                "plt.show()"
            ]
        },
        {
            "cell_type": "code",
            "execution_count": 72,
            "metadata": {
                "collapsed": false
            },
            "outputs": [
                {
                    "data": {
                        "image/png": "[encoded data removed]",
                        "text/plain": [
                            "<Figure size 360x288 with 1 Axes>"
                        ]
                    },
                    "metadata": {},
                    "output_type": "display_data"
                }
            ],
            "source": [
                "plt.figure(figsize=(5,4))\n",
                "shap.summary_plot(shap_values, Xdf, plot_type='bar', max_display=10, show=False, auto_size_plot=False)\n",
                "plt.xlabel(\"mean(|SHAP value|)\\n average impact on model output magnitude\")\n",
                "plt.savefig(\"NLSYM_shap_summary_bar.pdf\", dpi=300, bbox_inches='tight')\n",
                "plt.show()"
            ]
        },
        {
            "cell_type": "code",
            "execution_count": null,
            "metadata": {
                "collapsed": true
            },
            "outputs": [],
            "source": []
        }
    ],
    "metadata": {
        "kernelspec": {
            "display_name": "Python 3",
            "language": "python",
            "name": "python3"
        },
        "language_info": {
            "codemirror_mode": {
                "name": "ipython",
                "version": 3
            },
            "file_extension": ".py",
            "mimetype": "text/x-python",
            "name": "python",
            "nbconvert_exporter": "python",
            "pygments_lexer": "ipython3",
            "version": "3.6.5"
        }
    },
    "nbformat": 4,
    "nbformat_minor": 2
}