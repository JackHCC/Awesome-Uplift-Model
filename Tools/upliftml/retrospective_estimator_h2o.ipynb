{
 "cells": [
  {
   "cell_type": "markdown",
   "metadata": {},
   "source": [
    "# Retrospective estimator example"
   ]
  },
  {
   "cell_type": "code",
   "execution_count": 2,
   "metadata": {},
   "outputs": [],
   "source": [
    "import pyspark.sql.functions as F\n",
    "import pysparkling\n",
    "import h2o\n",
    "from h2o.estimators.glm import H2OGeneralizedLinearEstimator\n",
    "\n",
    "%matplotlib inline\n",
    "import seaborn as sns\n",
    "import matplotlib.pyplot as plt\n",
    "\n",
    "from upliftml.models.h2o import RetrospectiveEstimator\n",
    "from upliftml.evaluation import (\n",
    "    estimate_roi,\n",
    "    estimate_iroi,\n",
    "    estimate_and_plot_iroi_per_bucket,\n",
    "    estimate_and_plot_iroi_per_quantile,\n",
    "    estimate_and_plot_cum_iroi,\n",
    "    plot_metric_per_bucket,\n",
    "    plot_cum_iroi\n",
    ")\n",
    "from upliftml.datasets import simulate_randomized_trial"
   ]
  },
  {
   "cell_type": "markdown",
   "metadata": {},
   "source": [
    "### Start H2O"
   ]
  },
  {
   "cell_type": "code",
   "execution_count": null,
   "metadata": {},
   "outputs": [],
   "source": [
    "context = pysparkling.H2OContext.getOrCreate()"
   ]
  },
  {
   "cell_type": "markdown",
   "metadata": {},
   "source": [
    "#### Plot style"
   ]
  },
  {
   "cell_type": "code",
   "execution_count": 4,
   "metadata": {},
   "outputs": [],
   "source": [
    "sns.set(font_scale=1.5, style='ticks', rc={'figure.figsize':(11, 7)})"
   ]
  },
  {
   "cell_type": "markdown",
   "metadata": {},
   "source": [
    "### Read dataframe"
   ]
  },
  {
   "cell_type": "code",
   "execution_count": 5,
   "metadata": {},
   "outputs": [],
   "source": [
    "df_pd = simulate_randomized_trial(n=2000, p=6, sigma=1.0, binary_outcome=True, add_cost_benefit=True)\n",
    "df_spark = spark.createDataFrame(df_pd)"
   ]
  },
  {
   "cell_type": "code",
   "execution_count": 6,
   "metadata": {},
   "outputs": [
    {
     "data": {
      "text/plain": [
       "2000"
      ]
     },
     "execution_count": 6,
     "metadata": {},
     "output_type": "execute_result"
    }
   ],
   "source": [
    "df_spark.cache().count()"
   ]
  },
  {
   "cell_type": "code",
   "execution_count": 7,
   "metadata": {},
   "outputs": [
    {
     "data": {
      "text/html": [
       "<div>\n",
       "<style scoped>\n",
       "    .dataframe tbody tr th:only-of-type {\n",
       "        vertical-align: middle;\n",
       "    }\n",
       "\n",
       "    .dataframe tbody tr th {\n",
       "        vertical-align: top;\n",
       "    }\n",
       "\n",
       "    .dataframe thead th {\n",
       "        text-align: right;\n",
       "    }\n",
       "</style>\n",
       "<table border=\"1\" class=\"dataframe\">\n",
       "  <thead>\n",
       "    <tr style=\"text-align: right;\">\n",
       "      <th></th>\n",
       "      <th>treatment</th>\n",
       "      <th>outcome</th>\n",
       "      <th>propensity</th>\n",
       "      <th>expected_outcome</th>\n",
       "      <th>actual_cate</th>\n",
       "      <th>feature_1</th>\n",
       "      <th>feature_2</th>\n",
       "      <th>feature_3</th>\n",
       "      <th>feature_4</th>\n",
       "      <th>feature_5</th>\n",
       "      <th>feature_6</th>\n",
       "      <th>benefit</th>\n",
       "      <th>cost</th>\n",
       "    </tr>\n",
       "  </thead>\n",
       "  <tbody>\n",
       "    <tr>\n",
       "      <th>0</th>\n",
       "      <td>1</td>\n",
       "      <td>1</td>\n",
       "      <td>0.5</td>\n",
       "      <td>2.019253</td>\n",
       "      <td>0.180605</td>\n",
       "      <td>1.014769</td>\n",
       "      <td>-0.857720</td>\n",
       "      <td>-2.131140</td>\n",
       "      <td>1.430432</td>\n",
       "      <td>0.588821</td>\n",
       "      <td>1.038366</td>\n",
       "      <td>4.405101</td>\n",
       "      <td>1.101275</td>\n",
       "    </tr>\n",
       "    <tr>\n",
       "      <th>1</th>\n",
       "      <td>1</td>\n",
       "      <td>1</td>\n",
       "      <td>0.5</td>\n",
       "      <td>0.000000</td>\n",
       "      <td>-0.268418</td>\n",
       "      <td>-1.883508</td>\n",
       "      <td>-0.832102</td>\n",
       "      <td>-0.581922</td>\n",
       "      <td>-0.084271</td>\n",
       "      <td>-0.416903</td>\n",
       "      <td>0.785944</td>\n",
       "      <td>4.614017</td>\n",
       "      <td>1.153504</td>\n",
       "    </tr>\n",
       "    <tr>\n",
       "      <th>2</th>\n",
       "      <td>1</td>\n",
       "      <td>1</td>\n",
       "      <td>0.5</td>\n",
       "      <td>0.000000</td>\n",
       "      <td>0.435552</td>\n",
       "      <td>-1.478967</td>\n",
       "      <td>0.280614</td>\n",
       "      <td>-0.181815</td>\n",
       "      <td>-1.098660</td>\n",
       "      <td>-0.161005</td>\n",
       "      <td>-0.198284</td>\n",
       "      <td>0.785181</td>\n",
       "      <td>0.196295</td>\n",
       "    </tr>\n",
       "    <tr>\n",
       "      <th>3</th>\n",
       "      <td>1</td>\n",
       "      <td>1</td>\n",
       "      <td>0.5</td>\n",
       "      <td>1.511113</td>\n",
       "      <td>0.566909</td>\n",
       "      <td>1.554448</td>\n",
       "      <td>-0.809237</td>\n",
       "      <td>-0.328511</td>\n",
       "      <td>-0.379553</td>\n",
       "      <td>1.473966</td>\n",
       "      <td>-0.188883</td>\n",
       "      <td>0.989232</td>\n",
       "      <td>0.247308</td>\n",
       "    </tr>\n",
       "    <tr>\n",
       "      <th>4</th>\n",
       "      <td>0</td>\n",
       "      <td>0</td>\n",
       "      <td>0.5</td>\n",
       "      <td>0.199959</td>\n",
       "      <td>0.542356</td>\n",
       "      <td>0.573215</td>\n",
       "      <td>0.474320</td>\n",
       "      <td>-1.170482</td>\n",
       "      <td>-0.755163</td>\n",
       "      <td>0.955122</td>\n",
       "      <td>1.904021</td>\n",
       "      <td>0.000000</td>\n",
       "      <td>0.000000</td>\n",
       "    </tr>\n",
       "  </tbody>\n",
       "</table>\n",
       "</div>"
      ],
      "text/plain": [
       "   treatment  outcome  propensity  expected_outcome  actual_cate  feature_1  \\\n",
       "0          1        1         0.5          2.019253     0.180605   1.014769   \n",
       "1          1        1         0.5          0.000000    -0.268418  -1.883508   \n",
       "2          1        1         0.5          0.000000     0.435552  -1.478967   \n",
       "3          1        1         0.5          1.511113     0.566909   1.554448   \n",
       "4          0        0         0.5          0.199959     0.542356   0.573215   \n",
       "\n",
       "   feature_2  feature_3  feature_4  feature_5  feature_6   benefit      cost  \n",
       "0  -0.857720  -2.131140   1.430432   0.588821   1.038366  4.405101  1.101275  \n",
       "1  -0.832102  -0.581922  -0.084271  -0.416903   0.785944  4.614017  1.153504  \n",
       "2   0.280614  -0.181815  -1.098660  -0.161005  -0.198284  0.785181  0.196295  \n",
       "3  -0.809237  -0.328511  -0.379553   1.473966  -0.188883  0.989232  0.247308  \n",
       "4   0.474320  -1.170482  -0.755163   0.955122   1.904021  0.000000  0.000000  "
      ]
     },
     "execution_count": 7,
     "metadata": {},
     "output_type": "execute_result"
    }
   ],
   "source": [
    "df_spark.limit(5).toPandas()"
   ]
  },
  {
   "cell_type": "markdown",
   "metadata": {},
   "source": [
    "### Estimate ROI"
   ]
  },
  {
   "cell_type": "code",
   "execution_count": 8,
   "metadata": {},
   "outputs": [
    {
     "name": "stdout",
     "output_type": "stream",
     "text": [
      "ROI: 7.3039, lower: 6.8842, upper: 7.7141\n"
     ]
    }
   ],
   "source": [
    "results = estimate_roi(df_spark,\n",
    "                       benefit_colname='benefit',\n",
    "                       cost_colname='cost',\n",
    "                       bootstrap=True,\n",
    "                       n_bootstraps=100,\n",
    "                       ci_quantiles=[0.025, 0.975])\n",
    "\n",
    "print('ROI: {:.4f}, lower: {:.4f}, upper: {:.4f}'.format(results['roi'], results['roi_lower'], results['roi_upper']))"
   ]
  },
  {
   "cell_type": "markdown",
   "metadata": {},
   "source": [
    "### Estimate incremental ROI"
   ]
  },
  {
   "cell_type": "code",
   "execution_count": 9,
   "metadata": {},
   "outputs": [
    {
     "name": "stdout",
     "output_type": "stream",
     "text": [
      "iROI: 0.7680, lower: 0.5789, upper: 0.9595\n",
      "incremental benefit: 476.4275, lower: 322.1528, upper: 597.5819\n",
      "incremental cost: 620.3291, lower: 573.0115, upper: 674.1366\n"
     ]
    }
   ],
   "source": [
    "results = estimate_iroi(df_spark,\n",
    "                        benefit_colname='benefit',\n",
    "                        cost_colname='cost',\n",
    "                        treatment_colname='treatment',\n",
    "                        treatment_value=1, \n",
    "                        control_value=0,\n",
    "                        bootstrap=True,\n",
    "                        n_bootstraps=100,\n",
    "                        ci_quantiles=[0.025, 0.975])\n",
    "\n",
    "print('iROI: {:.4f}, lower: {:.4f}, upper: {:.4f}'.format(results['iroi'], results['iroi_lower'], results['iroi_upper']))\n",
    "print('incremental benefit: {:.4f}, lower: {:.4f}, upper: {:.4f}'.format(results['incremental_benefit'], results['incremental_benefit_lower'], results['incremental_benefit_upper']))\n",
    "print('incremental cost: {:.4f}, lower: {:.4f}, upper: {:.4f}'.format(results['incremental_cost'], results['incremental_cost_lower'], results['incremental_cost_upper']))"
   ]
  },
  {
   "cell_type": "markdown",
   "metadata": {},
   "source": [
    "### iROI per segments"
   ]
  },
  {
   "cell_type": "code",
   "execution_count": 9,
   "metadata": {},
   "outputs": [
    {
     "data": {
      "image/png": "[encoded data removed]",
      "text/plain": [
       "<Figure size 792x504 with 1 Axes>"
      ]
     },
     "metadata": {},
     "output_type": "display_data"
    }
   ],
   "source": [
    "# Add a categorical feature 'bucket'\n",
    "df_spark_with_bucket = df_spark.withColumn('bucket', F.col('feature_1').cast('int'))\n",
    "\n",
    "df_iroi_per_bucket = estimate_and_plot_iroi_per_bucket(df_spark_with_bucket, \n",
    "                                             bucket_colname='bucket', \n",
    "                                             benefit_colname='benefit', \n",
    "                                             cost_colname='cost', \n",
    "                                             treatment_colname='treatment',\n",
    "                                             bootstrap=True, \n",
    "                                             n_bootstraps=100)"
   ]
  },
  {
   "cell_type": "markdown",
   "metadata": {},
   "source": [
    "# Retrospective estimation"
   ]
  },
  {
   "cell_type": "markdown",
   "metadata": {},
   "source": [
    "### Convert Spark dataframe into H2O"
   ]
  },
  {
   "cell_type": "code",
   "execution_count": 10,
   "metadata": {},
   "outputs": [],
   "source": [
    "df_h2o = context.asH2OFrame(df_spark, h2oFrameName = 'df_h2o')"
   ]
  },
  {
   "cell_type": "markdown",
   "metadata": {},
   "source": [
    "### Train/Validation/Test Split"
   ]
  },
  {
   "cell_type": "code",
   "execution_count": 11,
   "metadata": {},
   "outputs": [],
   "source": [
    "df_h2o_train, df_h2o_val, df_h2o_test = df_h2o.split_frame([0.50, 0.25])"
   ]
  },
  {
   "cell_type": "markdown",
   "metadata": {},
   "source": [
    "### Define parameters"
   ]
  },
  {
   "cell_type": "code",
   "execution_count": 12,
   "metadata": {},
   "outputs": [],
   "source": [
    "base_model_class = H2OGeneralizedLinearEstimator\n",
    "\n",
    "model_params_cls = {'family': 'binomial'}\n",
    "\n",
    "predictor_colnames = [col for col in df_spark.columns if col.startswith('feature')]"
   ]
  },
  {
   "cell_type": "markdown",
   "metadata": {},
   "source": [
    "### Train the estimators and get predicted scores for test set"
   ]
  },
  {
   "cell_type": "code",
   "execution_count": 13,
   "metadata": {},
   "outputs": [],
   "source": [
    "retrospective_estimator = RetrospectiveEstimator(base_model_class, model_params_cls, predictor_colnames, \n",
    "                                                 target_colname='outcome', treatment_colname='treatment', \n",
    "                                                 positive_outcome_value=1)"
   ]
  },
  {
   "cell_type": "code",
   "execution_count": 14,
   "metadata": {
    "scrolled": false
   },
   "outputs": [
    {
     "name": "stdout",
     "output_type": "stream",
     "text": [
      "glm Model Build progress: |███████████████████████████████████████████████| 100%\n"
     ]
    }
   ],
   "source": [
    "retrospective_estimator.fit(df_h2o_train, df_h2o_val)"
   ]
  },
  {
   "cell_type": "code",
   "execution_count": 15,
   "metadata": {},
   "outputs": [],
   "source": [
    "eval_colnames = ['treatment', 'outcome', 'benefit', 'cost']"
   ]
  },
  {
   "cell_type": "code",
   "execution_count": 16,
   "metadata": {},
   "outputs": [
    {
     "name": "stdout",
     "output_type": "stream",
     "text": [
      "glm prediction progress: |████████████████████████████████████████████████| 100%\n"
     ]
    }
   ],
   "source": [
    "df_h2o_test_eval = (\n",
    "    df_h2o_test[eval_colnames]\n",
    "    .cbind(retrospective_estimator.predict(df_h2o_test))\n",
    ")"
   ]
  },
  {
   "cell_type": "code",
   "execution_count": 17,
   "metadata": {},
   "outputs": [],
   "source": [
    "df_spark_test_eval = context.asSparkFrame(df_h2o_test_eval)"
   ]
  },
  {
   "cell_type": "markdown",
   "metadata": {},
   "source": [
    "### Evaluation"
   ]
  },
  {
   "cell_type": "code",
   "execution_count": 18,
   "metadata": {},
   "outputs": [
    {
     "data": {
      "text/html": [
       "<div>\n",
       "<style scoped>\n",
       "    .dataframe tbody tr th:only-of-type {\n",
       "        vertical-align: middle;\n",
       "    }\n",
       "\n",
       "    .dataframe tbody tr th {\n",
       "        vertical-align: top;\n",
       "    }\n",
       "\n",
       "    .dataframe thead th {\n",
       "        text-align: right;\n",
       "    }\n",
       "</style>\n",
       "<table border=\"1\" class=\"dataframe\">\n",
       "  <thead>\n",
       "    <tr style=\"text-align: right;\">\n",
       "      <th></th>\n",
       "      <th>treatment</th>\n",
       "      <th>outcome</th>\n",
       "      <th>benefit</th>\n",
       "      <th>cost</th>\n",
       "      <th>score_re</th>\n",
       "    </tr>\n",
       "  </thead>\n",
       "  <tbody>\n",
       "    <tr>\n",
       "      <th>0</th>\n",
       "      <td>1</td>\n",
       "      <td>0</td>\n",
       "      <td>0.000000</td>\n",
       "      <td>0.000000</td>\n",
       "      <td>0.424609</td>\n",
       "    </tr>\n",
       "    <tr>\n",
       "      <th>1</th>\n",
       "      <td>0</td>\n",
       "      <td>1</td>\n",
       "      <td>1.112169</td>\n",
       "      <td>0.000000</td>\n",
       "      <td>0.557832</td>\n",
       "    </tr>\n",
       "    <tr>\n",
       "      <th>2</th>\n",
       "      <td>0</td>\n",
       "      <td>1</td>\n",
       "      <td>2.628262</td>\n",
       "      <td>0.000000</td>\n",
       "      <td>0.467171</td>\n",
       "    </tr>\n",
       "    <tr>\n",
       "      <th>3</th>\n",
       "      <td>0</td>\n",
       "      <td>0</td>\n",
       "      <td>0.000000</td>\n",
       "      <td>0.000000</td>\n",
       "      <td>0.487724</td>\n",
       "    </tr>\n",
       "    <tr>\n",
       "      <th>4</th>\n",
       "      <td>1</td>\n",
       "      <td>1</td>\n",
       "      <td>4.389609</td>\n",
       "      <td>1.097402</td>\n",
       "      <td>0.503409</td>\n",
       "    </tr>\n",
       "    <tr>\n",
       "      <th>5</th>\n",
       "      <td>1</td>\n",
       "      <td>1</td>\n",
       "      <td>5.129260</td>\n",
       "      <td>1.282315</td>\n",
       "      <td>0.545769</td>\n",
       "    </tr>\n",
       "    <tr>\n",
       "      <th>6</th>\n",
       "      <td>0</td>\n",
       "      <td>1</td>\n",
       "      <td>2.331359</td>\n",
       "      <td>0.000000</td>\n",
       "      <td>0.493527</td>\n",
       "    </tr>\n",
       "    <tr>\n",
       "      <th>7</th>\n",
       "      <td>0</td>\n",
       "      <td>1</td>\n",
       "      <td>3.586888</td>\n",
       "      <td>0.000000</td>\n",
       "      <td>0.602938</td>\n",
       "    </tr>\n",
       "    <tr>\n",
       "      <th>8</th>\n",
       "      <td>0</td>\n",
       "      <td>1</td>\n",
       "      <td>3.797881</td>\n",
       "      <td>0.000000</td>\n",
       "      <td>0.638452</td>\n",
       "    </tr>\n",
       "    <tr>\n",
       "      <th>9</th>\n",
       "      <td>0</td>\n",
       "      <td>0</td>\n",
       "      <td>0.000000</td>\n",
       "      <td>0.000000</td>\n",
       "      <td>0.583919</td>\n",
       "    </tr>\n",
       "  </tbody>\n",
       "</table>\n",
       "</div>"
      ],
      "text/plain": [
       "   treatment  outcome   benefit      cost  score_re\n",
       "0          1        0  0.000000  0.000000  0.424609\n",
       "1          0        1  1.112169  0.000000  0.557832\n",
       "2          0        1  2.628262  0.000000  0.467171\n",
       "3          0        0  0.000000  0.000000  0.487724\n",
       "4          1        1  4.389609  1.097402  0.503409\n",
       "5          1        1  5.129260  1.282315  0.545769\n",
       "6          0        1  2.331359  0.000000  0.493527\n",
       "7          0        1  3.586888  0.000000  0.602938\n",
       "8          0        1  3.797881  0.000000  0.638452\n",
       "9          0        0  0.000000  0.000000  0.583919"
      ]
     },
     "execution_count": 18,
     "metadata": {},
     "output_type": "execute_result"
    }
   ],
   "source": [
    "df_spark_test_eval.limit(10).toPandas()"
   ]
  },
  {
   "cell_type": "markdown",
   "metadata": {},
   "source": [
    "#### iROI by predicted score quantiles"
   ]
  },
  {
   "cell_type": "code",
   "execution_count": 19,
   "metadata": {},
   "outputs": [
    {
     "data": {
      "image/png": "[encoded data removed]",
      "text/plain": [
       "<Figure size 792x504 with 1 Axes>"
      ]
     },
     "metadata": {},
     "output_type": "display_data"
    }
   ],
   "source": [
    "df_barplot, ax = estimate_and_plot_iroi_per_quantile(df_spark_test_eval, \n",
    "                                                    n_buckets=10, \n",
    "                                                    score_colname='score_re', \n",
    "                                                    benefit_colname='benefit',\n",
    "                                                    cost_colname='cost',\n",
    "                                                    treatment_colname='treatment', \n",
    "                                                    bootstrap=True, \n",
    "                                                    n_bootstraps=500)"
   ]
  },
  {
   "cell_type": "markdown",
   "metadata": {},
   "source": [
    "#### Cumulative iROI"
   ]
  },
  {
   "cell_type": "code",
   "execution_count": 20,
   "metadata": {},
   "outputs": [
    {
     "name": "stderr",
     "output_type": "stream",
     "text": [
      "FixedFormatter should only be used together with FixedLocator\n",
      "No handles with labels found to put in legend.\n"
     ]
    },
    {
     "data": {
      "image/png": "[encoded data removed]",
      "text/plain": [
       "<Figure size 792x504 with 1 Axes>"
      ]
     },
     "metadata": {},
     "output_type": "display_data"
    }
   ],
   "source": [
    "df_iroi, ax = estimate_and_plot_cum_iroi(df_spark_test_eval, \n",
    "                                        score_colname='score_re', \n",
    "                                        benefit_colname='benefit', \n",
    "                                        cost_colname='cost',\n",
    "                                        treatment_colname='treatment', \n",
    "                                        n_buckets=10,\n",
    "                                        bootstrap=True, \n",
    "                                        n_bootstraps=500)"
   ]
  },
  {
   "cell_type": "code",
   "execution_count": 21,
   "metadata": {},
   "outputs": [
    {
     "data": {
      "text/html": [
       "<div>\n",
       "<style scoped>\n",
       "    .dataframe tbody tr th:only-of-type {\n",
       "        vertical-align: middle;\n",
       "    }\n",
       "\n",
       "    .dataframe tbody tr th {\n",
       "        vertical-align: top;\n",
       "    }\n",
       "\n",
       "    .dataframe thead th {\n",
       "        text-align: right;\n",
       "    }\n",
       "</style>\n",
       "<table border=\"1\" class=\"dataframe\">\n",
       "  <thead>\n",
       "    <tr style=\"text-align: right;\">\n",
       "      <th></th>\n",
       "      <th>bucket</th>\n",
       "      <th>count</th>\n",
       "      <th>fraction</th>\n",
       "      <th>threshold</th>\n",
       "      <th>iroi</th>\n",
       "      <th>iroi_lower</th>\n",
       "      <th>iroi_upper</th>\n",
       "      <th>iroi_std_error</th>\n",
       "    </tr>\n",
       "  </thead>\n",
       "  <tbody>\n",
       "    <tr>\n",
       "      <th>0</th>\n",
       "      <td>9.0</td>\n",
       "      <td>51</td>\n",
       "      <td>0.101594</td>\n",
       "      <td>0.644097</td>\n",
       "      <td>1.905993</td>\n",
       "      <td>1.116324</td>\n",
       "      <td>3.019839</td>\n",
       "      <td>0.495680</td>\n",
       "    </tr>\n",
       "    <tr>\n",
       "      <th>1</th>\n",
       "      <td>8.0</td>\n",
       "      <td>101</td>\n",
       "      <td>0.201195</td>\n",
       "      <td>0.615649</td>\n",
       "      <td>1.235630</td>\n",
       "      <td>0.534663</td>\n",
       "      <td>2.208694</td>\n",
       "      <td>0.427903</td>\n",
       "    </tr>\n",
       "    <tr>\n",
       "      <th>2</th>\n",
       "      <td>7.0</td>\n",
       "      <td>151</td>\n",
       "      <td>0.300797</td>\n",
       "      <td>0.595893</td>\n",
       "      <td>1.297381</td>\n",
       "      <td>0.696423</td>\n",
       "      <td>2.002522</td>\n",
       "      <td>0.332209</td>\n",
       "    </tr>\n",
       "    <tr>\n",
       "      <th>3</th>\n",
       "      <td>6.0</td>\n",
       "      <td>201</td>\n",
       "      <td>0.400398</td>\n",
       "      <td>0.580398</td>\n",
       "      <td>1.409831</td>\n",
       "      <td>0.932941</td>\n",
       "      <td>1.962082</td>\n",
       "      <td>0.286868</td>\n",
       "    </tr>\n",
       "    <tr>\n",
       "      <th>4</th>\n",
       "      <td>5.0</td>\n",
       "      <td>252</td>\n",
       "      <td>0.501992</td>\n",
       "      <td>0.563514</td>\n",
       "      <td>1.211096</td>\n",
       "      <td>0.696174</td>\n",
       "      <td>1.806090</td>\n",
       "      <td>0.285088</td>\n",
       "    </tr>\n",
       "    <tr>\n",
       "      <th>5</th>\n",
       "      <td>4.0</td>\n",
       "      <td>302</td>\n",
       "      <td>0.601594</td>\n",
       "      <td>0.549136</td>\n",
       "      <td>1.078337</td>\n",
       "      <td>0.596609</td>\n",
       "      <td>1.643535</td>\n",
       "      <td>0.272723</td>\n",
       "    </tr>\n",
       "    <tr>\n",
       "      <th>6</th>\n",
       "      <td>3.0</td>\n",
       "      <td>352</td>\n",
       "      <td>0.701195</td>\n",
       "      <td>0.530485</td>\n",
       "      <td>1.288016</td>\n",
       "      <td>0.825924</td>\n",
       "      <td>1.769441</td>\n",
       "      <td>0.239174</td>\n",
       "    </tr>\n",
       "    <tr>\n",
       "      <th>7</th>\n",
       "      <td>2.0</td>\n",
       "      <td>402</td>\n",
       "      <td>0.800797</td>\n",
       "      <td>0.501587</td>\n",
       "      <td>1.188086</td>\n",
       "      <td>0.747752</td>\n",
       "      <td>1.661865</td>\n",
       "      <td>0.227557</td>\n",
       "    </tr>\n",
       "    <tr>\n",
       "      <th>8</th>\n",
       "      <td>1.0</td>\n",
       "      <td>452</td>\n",
       "      <td>0.900398</td>\n",
       "      <td>0.468480</td>\n",
       "      <td>1.135494</td>\n",
       "      <td>0.708786</td>\n",
       "      <td>1.605876</td>\n",
       "      <td>0.226393</td>\n",
       "    </tr>\n",
       "    <tr>\n",
       "      <th>9</th>\n",
       "      <td>0.0</td>\n",
       "      <td>502</td>\n",
       "      <td>1.000000</td>\n",
       "      <td>-inf</td>\n",
       "      <td>0.991654</td>\n",
       "      <td>0.583150</td>\n",
       "      <td>1.431973</td>\n",
       "      <td>0.219316</td>\n",
       "    </tr>\n",
       "  </tbody>\n",
       "</table>\n",
       "</div>"
      ],
      "text/plain": [
       "   bucket  count  fraction  threshold      iroi  iroi_lower  iroi_upper  \\\n",
       "0     9.0     51  0.101594   0.644097  1.905993    1.116324    3.019839   \n",
       "1     8.0    101  0.201195   0.615649  1.235630    0.534663    2.208694   \n",
       "2     7.0    151  0.300797   0.595893  1.297381    0.696423    2.002522   \n",
       "3     6.0    201  0.400398   0.580398  1.409831    0.932941    1.962082   \n",
       "4     5.0    252  0.501992   0.563514  1.211096    0.696174    1.806090   \n",
       "5     4.0    302  0.601594   0.549136  1.078337    0.596609    1.643535   \n",
       "6     3.0    352  0.701195   0.530485  1.288016    0.825924    1.769441   \n",
       "7     2.0    402  0.800797   0.501587  1.188086    0.747752    1.661865   \n",
       "8     1.0    452  0.900398   0.468480  1.135494    0.708786    1.605876   \n",
       "9     0.0    502  1.000000       -inf  0.991654    0.583150    1.431973   \n",
       "\n",
       "   iroi_std_error  \n",
       "0        0.495680  \n",
       "1        0.427903  \n",
       "2        0.332209  \n",
       "3        0.286868  \n",
       "4        0.285088  \n",
       "5        0.272723  \n",
       "6        0.239174  \n",
       "7        0.227557  \n",
       "8        0.226393  \n",
       "9        0.219316  "
      ]
     },
     "execution_count": 21,
     "metadata": {},
     "output_type": "execute_result"
    }
   ],
   "source": [
    "df_iroi"
   ]
  },
  {
   "cell_type": "markdown",
   "metadata": {},
   "source": [
    "#### Plotting with subplots"
   ]
  },
  {
   "cell_type": "code",
   "execution_count": 22,
   "metadata": {},
   "outputs": [
    {
     "name": "stderr",
     "output_type": "stream",
     "text": [
      "FixedFormatter should only be used together with FixedLocator\n",
      "No handles with labels found to put in legend.\n"
     ]
    },
    {
     "data": {
      "text/plain": [
       "<AxesSubplot:title={'center':'iROI across % targeted'}, xlabel='% population targeted', ylabel='iROI'>"
      ]
     },
     "execution_count": 22,
     "metadata": {},
     "output_type": "execute_result"
    },
    {
     "data": {
      "image/png": "[encoded data removed]",
      "text/plain": [
       "<Figure size 1296x360 with 2 Axes>"
      ]
     },
     "metadata": {},
     "output_type": "display_data"
    }
   ],
   "source": [
    "sns.set(font_scale=1.1, style='ticks', rc={'figure.figsize':(18, 5)})\n",
    "\n",
    "fig, axes = plt.subplots(1, 2)\n",
    "\n",
    "plot_metric_per_bucket(df_barplot,\n",
    "                       y='iroi',\n",
    "                       bootstrap=True, \n",
    "                       ax=axes[0])\n",
    "    \n",
    "plot_cum_iroi(df_iroi,\n",
    "              bootstrap=True,\n",
    "              ax=axes[1])"
   ]
  },
  {
   "cell_type": "markdown",
   "metadata": {},
   "source": [
    " "
   ]
  }
 ],
 "metadata": {
  "kernelspec": {
   "display_name": "PySpark",
   "language": "python",
   "name": "pyspark"
  },
  "language_info": {
   "codemirror_mode": {
    "name": "ipython",
    "version": 3
   },
   "file_extension": ".py",
   "mimetype": "text/x-python",
   "name": "python",
   "nbconvert_exporter": "python",
   "pygments_lexer": "ipython3",
   "version": "3.7.7"
  }
 },
 "nbformat": 4,
 "nbformat_minor": 4
}
