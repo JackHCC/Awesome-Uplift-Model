{
 "cells": [
  {
   "cell_type": "markdown",
   "id": "183581ea",
   "metadata": {},
   "source": [
    "## Retrospective Estimator example"
   ]
  },
  {
   "cell_type": "code",
   "execution_count": 2,
   "id": "870ea050",
   "metadata": {},
   "outputs": [],
   "source": [
    "import pyspark.sql.functions as F\n",
    "from pyspark.ml.feature import VectorAssembler\n",
    "from pyspark.ml import Pipeline\n",
    "from pyspark.ml.feature import StringIndexer\n",
    "\n",
    "from pyspark.ml.classification import LogisticRegression\n",
    "from pyspark.ml.regression import LinearRegression\n",
    "\n",
    "%matplotlib inline\n",
    "import seaborn as sns\n",
    "import matplotlib.pyplot as plt\n",
    "\n",
    "from upliftml.models.pyspark import (\n",
    "    RetrospectiveEstimator\n",
    ")\n",
    "\n",
    "from upliftml.evaluation import (\n",
    "    estimate_roi,\n",
    "    estimate_iroi,\n",
    "    estimate_and_plot_iroi_per_bucket,\n",
    "    estimate_and_plot_iroi_per_quantile,\n",
    "    estimate_and_plot_cum_iroi,\n",
    "    plot_metric_per_bucket,\n",
    "    plot_cum_iroi\n",
    ")\n",
    "\n",
    "from upliftml.datasets import simulate_randomized_trial"
   ]
  },
  {
   "cell_type": "markdown",
   "id": "28579884",
   "metadata": {},
   "source": [
    "### Specify plot style\n"
   ]
  },
  {
   "cell_type": "code",
   "execution_count": 3,
   "id": "f0ebbc4b",
   "metadata": {},
   "outputs": [],
   "source": [
    "sns.set(font_scale=1.5, style='ticks', rc={'figure.figsize':(11, 7)}) "
   ]
  },
  {
   "cell_type": "markdown",
   "id": "553a8852",
   "metadata": {},
   "source": [
    "### Read dataframe"
   ]
  },
  {
   "cell_type": "code",
   "execution_count": 4,
   "id": "2f8ccfd0",
   "metadata": {},
   "outputs": [],
   "source": [
    "df_pd = simulate_randomized_trial(n=2000, p=6, sigma=1.0, binary_outcome=True, add_cost_benefit=True)\n",
    "df_spark = spark.createDataFrame(df_pd)"
   ]
  },
  {
   "cell_type": "code",
   "execution_count": 5,
   "id": "f2edf6f2",
   "metadata": {},
   "outputs": [
    {
     "data": {
      "text/plain": [
       "2000"
      ]
     },
     "execution_count": 5,
     "metadata": {},
     "output_type": "execute_result"
    }
   ],
   "source": [
    "df_spark.cache().count() "
   ]
  },
  {
   "cell_type": "code",
   "execution_count": 6,
   "id": "65aea6fe",
   "metadata": {},
   "outputs": [
    {
     "data": {
      "text/html": [
       "<div>\n",
       "<style scoped>\n",
       "    .dataframe tbody tr th:only-of-type {\n",
       "        vertical-align: middle;\n",
       "    }\n",
       "\n",
       "    .dataframe tbody tr th {\n",
       "        vertical-align: top;\n",
       "    }\n",
       "\n",
       "    .dataframe thead th {\n",
       "        text-align: right;\n",
       "    }\n",
       "</style>\n",
       "<table border=\"1\" class=\"dataframe\">\n",
       "  <thead>\n",
       "    <tr style=\"text-align: right;\">\n",
       "      <th></th>\n",
       "      <th>treatment</th>\n",
       "      <th>outcome</th>\n",
       "      <th>propensity</th>\n",
       "      <th>expected_outcome</th>\n",
       "      <th>actual_cate</th>\n",
       "      <th>feature_1</th>\n",
       "      <th>feature_2</th>\n",
       "      <th>feature_3</th>\n",
       "      <th>feature_4</th>\n",
       "      <th>feature_5</th>\n",
       "      <th>feature_6</th>\n",
       "      <th>benefit</th>\n",
       "      <th>cost</th>\n",
       "    </tr>\n",
       "  </thead>\n",
       "  <tbody>\n",
       "    <tr>\n",
       "      <th>0</th>\n",
       "      <td>1</td>\n",
       "      <td>0</td>\n",
       "      <td>0.5</td>\n",
       "      <td>0.000000</td>\n",
       "      <td>-0.060041</td>\n",
       "      <td>-1.737576</td>\n",
       "      <td>-0.486028</td>\n",
       "      <td>-0.852931</td>\n",
       "      <td>-0.209666</td>\n",
       "      <td>-1.232401</td>\n",
       "      <td>-0.529379</td>\n",
       "      <td>0.000000</td>\n",
       "      <td>0.000000</td>\n",
       "    </tr>\n",
       "    <tr>\n",
       "      <th>1</th>\n",
       "      <td>0</td>\n",
       "      <td>0</td>\n",
       "      <td>0.5</td>\n",
       "      <td>0.000000</td>\n",
       "      <td>0.248387</td>\n",
       "      <td>-0.584504</td>\n",
       "      <td>-0.947664</td>\n",
       "      <td>1.370967</td>\n",
       "      <td>-1.256588</td>\n",
       "      <td>0.944933</td>\n",
       "      <td>-1.472792</td>\n",
       "      <td>0.000000</td>\n",
       "      <td>0.000000</td>\n",
       "    </tr>\n",
       "    <tr>\n",
       "      <th>2</th>\n",
       "      <td>1</td>\n",
       "      <td>1</td>\n",
       "      <td>0.5</td>\n",
       "      <td>0.000000</td>\n",
       "      <td>0.248844</td>\n",
       "      <td>0.333312</td>\n",
       "      <td>0.022009</td>\n",
       "      <td>-0.677174</td>\n",
       "      <td>-0.530989</td>\n",
       "      <td>-1.588610</td>\n",
       "      <td>-1.195767</td>\n",
       "      <td>3.688308</td>\n",
       "      <td>0.922077</td>\n",
       "    </tr>\n",
       "    <tr>\n",
       "      <th>3</th>\n",
       "      <td>1</td>\n",
       "      <td>1</td>\n",
       "      <td>0.5</td>\n",
       "      <td>2.221336</td>\n",
       "      <td>0.093305</td>\n",
       "      <td>-1.685321</td>\n",
       "      <td>1.414521</td>\n",
       "      <td>0.949599</td>\n",
       "      <td>0.191953</td>\n",
       "      <td>1.350585</td>\n",
       "      <td>-0.724823</td>\n",
       "      <td>4.348953</td>\n",
       "      <td>1.087238</td>\n",
       "    </tr>\n",
       "    <tr>\n",
       "      <th>4</th>\n",
       "      <td>0</td>\n",
       "      <td>1</td>\n",
       "      <td>0.5</td>\n",
       "      <td>5.892176</td>\n",
       "      <td>0.022531</td>\n",
       "      <td>2.385654</td>\n",
       "      <td>1.509790</td>\n",
       "      <td>1.996732</td>\n",
       "      <td>0.436906</td>\n",
       "      <td>-0.464525</td>\n",
       "      <td>-2.084312</td>\n",
       "      <td>2.451792</td>\n",
       "      <td>0.000000</td>\n",
       "    </tr>\n",
       "  </tbody>\n",
       "</table>\n",
       "</div>"
      ],
      "text/plain": [
       "   treatment  outcome  propensity  expected_outcome  actual_cate  feature_1  \\\n",
       "0          1        0         0.5          0.000000    -0.060041  -1.737576   \n",
       "1          0        0         0.5          0.000000     0.248387  -0.584504   \n",
       "2          1        1         0.5          0.000000     0.248844   0.333312   \n",
       "3          1        1         0.5          2.221336     0.093305  -1.685321   \n",
       "4          0        1         0.5          5.892176     0.022531   2.385654   \n",
       "\n",
       "   feature_2  feature_3  feature_4  feature_5  feature_6   benefit      cost  \n",
       "0  -0.486028  -0.852931  -0.209666  -1.232401  -0.529379  0.000000  0.000000  \n",
       "1  -0.947664   1.370967  -1.256588   0.944933  -1.472792  0.000000  0.000000  \n",
       "2   0.022009  -0.677174  -0.530989  -1.588610  -1.195767  3.688308  0.922077  \n",
       "3   1.414521   0.949599   0.191953   1.350585  -0.724823  4.348953  1.087238  \n",
       "4   1.509790   1.996732   0.436906  -0.464525  -2.084312  2.451792  0.000000  "
      ]
     },
     "execution_count": 6,
     "metadata": {},
     "output_type": "execute_result"
    }
   ],
   "source": [
    "df_spark.limit(5).toPandas() "
   ]
  },
  {
   "cell_type": "markdown",
   "id": "6112a27e",
   "metadata": {},
   "source": [
    "### Estimate ROI"
   ]
  },
  {
   "cell_type": "code",
   "execution_count": 7,
   "id": "e88612b3",
   "metadata": {},
   "outputs": [
    {
     "name": "stdout",
     "output_type": "stream",
     "text": [
      "ROI: 7.4640, lower: 7.0270, upper: 7.8174\n"
     ]
    }
   ],
   "source": [
    "results = estimate_roi(df_spark,\n",
    "                       benefit_colname='benefit',\n",
    "                       cost_colname='cost',\n",
    "                       bootstrap=True,\n",
    "                       n_bootstraps=100,\n",
    "                       ci_quantiles=[0.025, 0.975])\n",
    "\n",
    "print('ROI: {:.4f}, lower: {:.4f}, upper: {:.4f}'.format(results['roi'], results['roi_lower'], results['roi_upper']))"
   ]
  },
  {
   "cell_type": "markdown",
   "id": "6d490e3c",
   "metadata": {},
   "source": [
    "### Estimate incremental ROI"
   ]
  },
  {
   "cell_type": "code",
   "execution_count": 8,
   "id": "4ff1f40c",
   "metadata": {},
   "outputs": [
    {
     "name": "stdout",
     "output_type": "stream",
     "text": [
      "iROI: 0.4590, lower: 0.2304, upper: 0.7349\n",
      "incremental benefit: 276.7055, lower: 121.5146, upper: 454.5149\n",
      "incremental cost: 602.8872, lower: 546.6350, upper: 657.1097\n"
     ]
    }
   ],
   "source": [
    "results = estimate_iroi(df_spark,\n",
    "                        benefit_colname='benefit',\n",
    "                        cost_colname='cost',\n",
    "                        treatment_colname='treatment',\n",
    "                        treatment_value=1, \n",
    "                        control_value=0,\n",
    "                        bootstrap=True,\n",
    "                        n_bootstraps=100,\n",
    "                        ci_quantiles=[0.025, 0.975])\n",
    "\n",
    "print('iROI: {:.4f}, lower: {:.4f}, upper: {:.4f}'.format(results['iroi'], results['iroi_lower'], results['iroi_upper']))\n",
    "print('incremental benefit: {:.4f}, lower: {:.4f}, upper: {:.4f}'.format(results['incremental_benefit'], results['incremental_benefit_lower'], results['incremental_benefit_upper']))\n",
    "print('incremental cost: {:.4f}, lower: {:.4f}, upper: {:.4f}'.format(results['incremental_cost'], results['incremental_cost_lower'], results['incremental_cost_upper']))"
   ]
  },
  {
   "cell_type": "markdown",
   "id": "98afda46",
   "metadata": {},
   "source": [
    "### iROI per segments"
   ]
  },
  {
   "cell_type": "code",
   "execution_count": 9,
   "id": "2699f600",
   "metadata": {},
   "outputs": [
    {
     "data": {
      "image/png": "[encoded data removed]",
      "text/plain": [
       "<Figure size 792x504 with 1 Axes>"
      ]
     },
     "metadata": {},
     "output_type": "display_data"
    }
   ],
   "source": [
    "# Add a categorical feature 'bucket'\n",
    "df_spark_with_bucket = df_spark.withColumn('bucket', F.col('feature_1').cast('int'))\n",
    "\n",
    "df_iroi_per_bucket = estimate_and_plot_iroi_per_bucket(df_spark_with_bucket, \n",
    "                                             bucket_colname='bucket', \n",
    "                                             benefit_colname='benefit', \n",
    "                                             cost_colname='cost', \n",
    "                                             treatment_colname='treatment',\n",
    "                                             bootstrap=True, \n",
    "                                             n_bootstraps=100)"
   ]
  },
  {
   "cell_type": "markdown",
   "id": "76a5413f",
   "metadata": {},
   "source": [
    "### Retroscpective Estimator"
   ]
  },
  {
   "cell_type": "markdown",
   "id": "83547656",
   "metadata": {},
   "source": [
    "#### Train/Test Split"
   ]
  },
  {
   "cell_type": "code",
   "execution_count": 10,
   "id": "55910ac2",
   "metadata": {},
   "outputs": [],
   "source": [
    "df_train, df_val, df_test = df_spark.randomSplit([0.5, 0.25, 0.25])"
   ]
  },
  {
   "cell_type": "markdown",
   "id": "13a2f6e6",
   "metadata": {},
   "source": [
    "#### Assemble features"
   ]
  },
  {
   "cell_type": "code",
   "execution_count": 11,
   "id": "157ae445",
   "metadata": {},
   "outputs": [],
   "source": [
    "def get_features_vector(df, num_features, cat_features):\n",
    "    \n",
    "    df_cols = df.columns\n",
    "    indexers = [StringIndexer(inputCol = c, outputCol=\"{0}_indexed\".format(c)) for c in cat_features]\n",
    "    encoders = [StringIndexer(inputCol = indexer.getOutputCol(), outputCol = \"{0}_encoded\".format(indexer.getOutputCol())) for indexer in indexers]\n",
    "    assemblerCat = VectorAssembler(inputCols = [encoder.getOutputCol() for encoder in encoders], outputCol = \"cat\")\n",
    "\n",
    "    pipelineCat = Pipeline(stages = indexers + encoders + [assemblerCat])\n",
    "    df = pipelineCat.fit(df).transform(df)\n",
    "\n",
    "    assemblerNum = VectorAssembler(inputCols = num_features, outputCol = \"num\")\n",
    "    pipelineNum = Pipeline(stages = [assemblerNum])\n",
    "    df = pipelineNum.fit(df).transform(df)\n",
    "\n",
    "    assembler = VectorAssembler(inputCols = [\"cat\", \"num\"], outputCol = \"features\")\n",
    "\n",
    "    pipeline = Pipeline(stages = [assembler])\n",
    "    df_assembled = pipeline.fit(df).transform(df)\n",
    "\n",
    "    return df_assembled.select([*df_cols,'features'])"
   ]
  },
  {
   "cell_type": "code",
   "execution_count": 12,
   "id": "d711a482",
   "metadata": {},
   "outputs": [],
   "source": [
    "num_features = [\n",
    "    'feature_1',\n",
    "    'feature_2',\n",
    "    'feature_3',\n",
    "    'feature_4',\n",
    "    'feature_5',\n",
    "    'feature_6'\n",
    "]\n",
    "\n",
    "cat_features = []\n",
    "\n",
    "df_train_assembled = get_features_vector(df_train, num_features, cat_features)\n",
    "df_val_assembled = get_features_vector(df_val, num_features, cat_features)\n",
    "df_test_assembled = get_features_vector(df_test, num_features, cat_features)"
   ]
  },
  {
   "cell_type": "markdown",
   "id": "c656045d",
   "metadata": {},
   "source": [
    "#### Define model parameters"
   ]
  },
  {
   "cell_type": "code",
   "execution_count": 13,
   "id": "be56d8ab",
   "metadata": {},
   "outputs": [],
   "source": [
    "predictors_colname = 'features'\n",
    "target_colname = 'outcome'\n",
    "treatment_colname = 'treatment'\n",
    "treatment_value = 1\n",
    "control_value = 0\n",
    "\n",
    "base_model_class_cls = LogisticRegression\n",
    "base_model_params_cls = {}"
   ]
  },
  {
   "cell_type": "markdown",
   "id": "05716e47",
   "metadata": {},
   "source": [
    "#### Initialize Estimator"
   ]
  },
  {
   "cell_type": "code",
   "execution_count": 14,
   "id": "ef33da7a",
   "metadata": {},
   "outputs": [],
   "source": [
    "estimator_re = RetrospectiveEstimator(base_model_class=base_model_class_cls,\n",
    "                                      base_model_params=base_model_params_cls,\n",
    "                                      predictors_colname=predictors_colname,\n",
    "                                      target_colname=target_colname,\n",
    "                                      treatment_colname=treatment_colname,\n",
    "                                      positive_outcome_value=1,\n",
    "                                      output_colname='score_re')"
   ]
  },
  {
   "cell_type": "markdown",
   "id": "7857cd73",
   "metadata": {},
   "source": [
    "#### Train the Estimator"
   ]
  },
  {
   "cell_type": "code",
   "execution_count": 15,
   "id": "22b4b1ca",
   "metadata": {},
   "outputs": [],
   "source": [
    "estimator_re.fit(df_train_assembled, df_val_assembled)"
   ]
  },
  {
   "cell_type": "markdown",
   "id": "258bb431",
   "metadata": {},
   "source": [
    "#### Predict CATE scores on test set "
   ]
  },
  {
   "cell_type": "code",
   "execution_count": 16,
   "id": "052d4ca2",
   "metadata": {},
   "outputs": [],
   "source": [
    "df_test_eval = estimator_re.predict(df_test_assembled)"
   ]
  },
  {
   "cell_type": "markdown",
   "id": "e993f8f3",
   "metadata": {},
   "source": [
    "### Evaluate"
   ]
  },
  {
   "cell_type": "code",
   "execution_count": 17,
   "id": "3e7850c0",
   "metadata": {},
   "outputs": [
    {
     "data": {
      "text/html": [
       "<div>\n",
       "<style scoped>\n",
       "    .dataframe tbody tr th:only-of-type {\n",
       "        vertical-align: middle;\n",
       "    }\n",
       "\n",
       "    .dataframe tbody tr th {\n",
       "        vertical-align: top;\n",
       "    }\n",
       "\n",
       "    .dataframe thead th {\n",
       "        text-align: right;\n",
       "    }\n",
       "</style>\n",
       "<table border=\"1\" class=\"dataframe\">\n",
       "  <thead>\n",
       "    <tr style=\"text-align: right;\">\n",
       "      <th></th>\n",
       "      <th>treatment</th>\n",
       "      <th>outcome</th>\n",
       "      <th>propensity</th>\n",
       "      <th>expected_outcome</th>\n",
       "      <th>actual_cate</th>\n",
       "      <th>feature_1</th>\n",
       "      <th>feature_2</th>\n",
       "      <th>feature_3</th>\n",
       "      <th>feature_4</th>\n",
       "      <th>feature_5</th>\n",
       "      <th>feature_6</th>\n",
       "      <th>benefit</th>\n",
       "      <th>cost</th>\n",
       "      <th>features</th>\n",
       "      <th>score_re</th>\n",
       "    </tr>\n",
       "  </thead>\n",
       "  <tbody>\n",
       "    <tr>\n",
       "      <th>0</th>\n",
       "      <td>0</td>\n",
       "      <td>0</td>\n",
       "      <td>0.5</td>\n",
       "      <td>0.0</td>\n",
       "      <td>-0.146339</td>\n",
       "      <td>-1.126069</td>\n",
       "      <td>-0.082306</td>\n",
       "      <td>-0.706547</td>\n",
       "      <td>-0.683775</td>\n",
       "      <td>-0.259607</td>\n",
       "      <td>1.560094</td>\n",
       "      <td>0.0</td>\n",
       "      <td>0.0</td>\n",
       "      <td>[-1.1260690832483153, -0.08230619326838341, -0...</td>\n",
       "      <td>0.514481</td>\n",
       "    </tr>\n",
       "    <tr>\n",
       "      <th>1</th>\n",
       "      <td>0</td>\n",
       "      <td>0</td>\n",
       "      <td>0.5</td>\n",
       "      <td>0.0</td>\n",
       "      <td>-0.002423</td>\n",
       "      <td>-0.346119</td>\n",
       "      <td>-0.402593</td>\n",
       "      <td>-0.349135</td>\n",
       "      <td>0.284054</td>\n",
       "      <td>-2.253339</td>\n",
       "      <td>-1.089941</td>\n",
       "      <td>0.0</td>\n",
       "      <td>0.0</td>\n",
       "      <td>[-0.34611949162735844, -0.4025925175661488, -0...</td>\n",
       "      <td>0.547890</td>\n",
       "    </tr>\n",
       "    <tr>\n",
       "      <th>2</th>\n",
       "      <td>0</td>\n",
       "      <td>0</td>\n",
       "      <td>0.5</td>\n",
       "      <td>0.0</td>\n",
       "      <td>0.004361</td>\n",
       "      <td>-0.129698</td>\n",
       "      <td>0.433610</td>\n",
       "      <td>-0.671417</td>\n",
       "      <td>0.142972</td>\n",
       "      <td>-0.426803</td>\n",
       "      <td>-0.462759</td>\n",
       "      <td>0.0</td>\n",
       "      <td>0.0</td>\n",
       "      <td>[-0.1296976436338357, 0.43361036836075934, -0....</td>\n",
       "      <td>0.544404</td>\n",
       "    </tr>\n",
       "    <tr>\n",
       "      <th>3</th>\n",
       "      <td>0</td>\n",
       "      <td>0</td>\n",
       "      <td>0.5</td>\n",
       "      <td>0.0</td>\n",
       "      <td>0.130092</td>\n",
       "      <td>-0.816479</td>\n",
       "      <td>-0.273383</td>\n",
       "      <td>0.500393</td>\n",
       "      <td>0.462258</td>\n",
       "      <td>-0.689323</td>\n",
       "      <td>0.760541</td>\n",
       "      <td>0.0</td>\n",
       "      <td>0.0</td>\n",
       "      <td>[-0.8164790243634956, -0.2733830199372233, 0.5...</td>\n",
       "      <td>0.504497</td>\n",
       "    </tr>\n",
       "    <tr>\n",
       "      <th>4</th>\n",
       "      <td>0</td>\n",
       "      <td>0</td>\n",
       "      <td>0.5</td>\n",
       "      <td>0.0</td>\n",
       "      <td>0.277825</td>\n",
       "      <td>1.113967</td>\n",
       "      <td>-0.783901</td>\n",
       "      <td>-1.705676</td>\n",
       "      <td>-0.554331</td>\n",
       "      <td>-0.522358</td>\n",
       "      <td>0.896910</td>\n",
       "      <td>0.0</td>\n",
       "      <td>0.0</td>\n",
       "      <td>[1.1139669449125946, -0.783900912542866, -1.70...</td>\n",
       "      <td>0.636392</td>\n",
       "    </tr>\n",
       "    <tr>\n",
       "      <th>5</th>\n",
       "      <td>0</td>\n",
       "      <td>0</td>\n",
       "      <td>0.5</td>\n",
       "      <td>0.0</td>\n",
       "      <td>0.292714</td>\n",
       "      <td>0.127141</td>\n",
       "      <td>0.033433</td>\n",
       "      <td>-0.556152</td>\n",
       "      <td>-1.793331</td>\n",
       "      <td>-0.033364</td>\n",
       "      <td>1.377836</td>\n",
       "      <td>0.0</td>\n",
       "      <td>0.0</td>\n",
       "      <td>[0.12714062504052986, 0.03343339879516976, -0....</td>\n",
       "      <td>0.591200</td>\n",
       "    </tr>\n",
       "    <tr>\n",
       "      <th>6</th>\n",
       "      <td>0</td>\n",
       "      <td>0</td>\n",
       "      <td>0.5</td>\n",
       "      <td>0.0</td>\n",
       "      <td>0.293878</td>\n",
       "      <td>-1.817243</td>\n",
       "      <td>1.383660</td>\n",
       "      <td>-0.072672</td>\n",
       "      <td>-0.309490</td>\n",
       "      <td>-0.232599</td>\n",
       "      <td>-1.375230</td>\n",
       "      <td>0.0</td>\n",
       "      <td>0.0</td>\n",
       "      <td>[-1.8172427516482315, 1.3836601039520864, -0.0...</td>\n",
       "      <td>0.447338</td>\n",
       "    </tr>\n",
       "    <tr>\n",
       "      <th>7</th>\n",
       "      <td>0</td>\n",
       "      <td>0</td>\n",
       "      <td>0.5</td>\n",
       "      <td>0.0</td>\n",
       "      <td>0.300117</td>\n",
       "      <td>-1.579958</td>\n",
       "      <td>1.569974</td>\n",
       "      <td>-0.832644</td>\n",
       "      <td>-1.464347</td>\n",
       "      <td>0.689706</td>\n",
       "      <td>0.252321</td>\n",
       "      <td>0.0</td>\n",
       "      <td>0.0</td>\n",
       "      <td>[-1.5799575060522664, 1.5699744837853205, -0.8...</td>\n",
       "      <td>0.481769</td>\n",
       "    </tr>\n",
       "    <tr>\n",
       "      <th>8</th>\n",
       "      <td>0</td>\n",
       "      <td>0</td>\n",
       "      <td>0.5</td>\n",
       "      <td>0.0</td>\n",
       "      <td>0.329878</td>\n",
       "      <td>-1.042373</td>\n",
       "      <td>0.738313</td>\n",
       "      <td>0.216684</td>\n",
       "      <td>-3.163180</td>\n",
       "      <td>1.995621</td>\n",
       "      <td>-0.371960</td>\n",
       "      <td>0.0</td>\n",
       "      <td>0.0</td>\n",
       "      <td>[-1.042373199020343, 0.7383130367720326, 0.216...</td>\n",
       "      <td>0.503692</td>\n",
       "    </tr>\n",
       "    <tr>\n",
       "      <th>9</th>\n",
       "      <td>0</td>\n",
       "      <td>0</td>\n",
       "      <td>0.5</td>\n",
       "      <td>0.0</td>\n",
       "      <td>0.337919</td>\n",
       "      <td>-1.131655</td>\n",
       "      <td>-0.406502</td>\n",
       "      <td>-0.616523</td>\n",
       "      <td>-1.681042</td>\n",
       "      <td>0.467646</td>\n",
       "      <td>-1.245395</td>\n",
       "      <td>0.0</td>\n",
       "      <td>0.0</td>\n",
       "      <td>[-1.1316552151049233, -0.40650173295694, -0.61...</td>\n",
       "      <td>0.498620</td>\n",
       "    </tr>\n",
       "  </tbody>\n",
       "</table>\n",
       "</div>"
      ],
      "text/plain": [
       "   treatment  outcome  propensity  expected_outcome  actual_cate  feature_1  \\\n",
       "0          0        0         0.5               0.0    -0.146339  -1.126069   \n",
       "1          0        0         0.5               0.0    -0.002423  -0.346119   \n",
       "2          0        0         0.5               0.0     0.004361  -0.129698   \n",
       "3          0        0         0.5               0.0     0.130092  -0.816479   \n",
       "4          0        0         0.5               0.0     0.277825   1.113967   \n",
       "5          0        0         0.5               0.0     0.292714   0.127141   \n",
       "6          0        0         0.5               0.0     0.293878  -1.817243   \n",
       "7          0        0         0.5               0.0     0.300117  -1.579958   \n",
       "8          0        0         0.5               0.0     0.329878  -1.042373   \n",
       "9          0        0         0.5               0.0     0.337919  -1.131655   \n",
       "\n",
       "   feature_2  feature_3  feature_4  feature_5  feature_6  benefit  cost  \\\n",
       "0  -0.082306  -0.706547  -0.683775  -0.259607   1.560094      0.0   0.0   \n",
       "1  -0.402593  -0.349135   0.284054  -2.253339  -1.089941      0.0   0.0   \n",
       "2   0.433610  -0.671417   0.142972  -0.426803  -0.462759      0.0   0.0   \n",
       "3  -0.273383   0.500393   0.462258  -0.689323   0.760541      0.0   0.0   \n",
       "4  -0.783901  -1.705676  -0.554331  -0.522358   0.896910      0.0   0.0   \n",
       "5   0.033433  -0.556152  -1.793331  -0.033364   1.377836      0.0   0.0   \n",
       "6   1.383660  -0.072672  -0.309490  -0.232599  -1.375230      0.0   0.0   \n",
       "7   1.569974  -0.832644  -1.464347   0.689706   0.252321      0.0   0.0   \n",
       "8   0.738313   0.216684  -3.163180   1.995621  -0.371960      0.0   0.0   \n",
       "9  -0.406502  -0.616523  -1.681042   0.467646  -1.245395      0.0   0.0   \n",
       "\n",
       "                                            features  score_re  \n",
       "0  [-1.1260690832483153, -0.08230619326838341, -0...  0.514481  \n",
       "1  [-0.34611949162735844, -0.4025925175661488, -0...  0.547890  \n",
       "2  [-0.1296976436338357, 0.43361036836075934, -0....  0.544404  \n",
       "3  [-0.8164790243634956, -0.2733830199372233, 0.5...  0.504497  \n",
       "4  [1.1139669449125946, -0.783900912542866, -1.70...  0.636392  \n",
       "5  [0.12714062504052986, 0.03343339879516976, -0....  0.591200  \n",
       "6  [-1.8172427516482315, 1.3836601039520864, -0.0...  0.447338  \n",
       "7  [-1.5799575060522664, 1.5699744837853205, -0.8...  0.481769  \n",
       "8  [-1.042373199020343, 0.7383130367720326, 0.216...  0.503692  \n",
       "9  [-1.1316552151049233, -0.40650173295694, -0.61...  0.498620  "
      ]
     },
     "execution_count": 17,
     "metadata": {},
     "output_type": "execute_result"
    }
   ],
   "source": [
    "df_test_eval.limit(10).toPandas()"
   ]
  },
  {
   "cell_type": "markdown",
   "id": "9a64d944",
   "metadata": {},
   "source": [
    "### iROI by predicted score quantiles"
   ]
  },
  {
   "cell_type": "code",
   "execution_count": 18,
   "id": "54825b50",
   "metadata": {},
   "outputs": [
    {
     "data": {
      "image/png": "[encoded data removed]",
      "text/plain": [
       "<Figure size 792x504 with 1 Axes>"
      ]
     },
     "metadata": {},
     "output_type": "display_data"
    }
   ],
   "source": [
    "df_barplot, ax = estimate_and_plot_iroi_per_quantile(df_test_eval, \n",
    "                                                    n_buckets=10, \n",
    "                                                    score_colname='score_re', \n",
    "                                                    benefit_colname='benefit',\n",
    "                                                    cost_colname='cost',\n",
    "                                                    treatment_colname='treatment', \n",
    "                                                    bootstrap=True, \n",
    "                                                    n_bootstraps=500)"
   ]
  },
  {
   "cell_type": "markdown",
   "id": "0a2bffa9",
   "metadata": {},
   "source": [
    "### Cumulative iROI"
   ]
  },
  {
   "cell_type": "code",
   "execution_count": 19,
   "id": "cd06b91e",
   "metadata": {},
   "outputs": [
    {
     "name": "stderr",
     "output_type": "stream",
     "text": [
      "No handles with labels found to put in legend.\n"
     ]
    },
    {
     "data": {
      "image/png": "[encoded data removed]",
      "text/plain": [
       "<Figure size 792x504 with 1 Axes>"
      ]
     },
     "metadata": {},
     "output_type": "display_data"
    }
   ],
   "source": [
    "df_iroi, ax = estimate_and_plot_cum_iroi(df_test_eval, \n",
    "                                        score_colname='score_re', \n",
    "                                        benefit_colname='benefit', \n",
    "                                        cost_colname='cost',\n",
    "                                        treatment_colname='treatment', \n",
    "                                        n_buckets=10,\n",
    "                                        bootstrap=True, \n",
    "                                        n_bootstraps=500)"
   ]
  },
  {
   "cell_type": "code",
   "execution_count": 20,
   "id": "683fbf28",
   "metadata": {},
   "outputs": [
    {
     "data": {
      "text/html": [
       "<div>\n",
       "<style scoped>\n",
       "    .dataframe tbody tr th:only-of-type {\n",
       "        vertical-align: middle;\n",
       "    }\n",
       "\n",
       "    .dataframe tbody tr th {\n",
       "        vertical-align: top;\n",
       "    }\n",
       "\n",
       "    .dataframe thead th {\n",
       "        text-align: right;\n",
       "    }\n",
       "</style>\n",
       "<table border=\"1\" class=\"dataframe\">\n",
       "  <thead>\n",
       "    <tr style=\"text-align: right;\">\n",
       "      <th></th>\n",
       "      <th>bucket</th>\n",
       "      <th>count</th>\n",
       "      <th>fraction</th>\n",
       "      <th>threshold</th>\n",
       "      <th>iroi</th>\n",
       "      <th>iroi_lower</th>\n",
       "      <th>iroi_upper</th>\n",
       "      <th>iroi_std_error</th>\n",
       "    </tr>\n",
       "  </thead>\n",
       "  <tbody>\n",
       "    <tr>\n",
       "      <th>0</th>\n",
       "      <td>9.0</td>\n",
       "      <td>50</td>\n",
       "      <td>0.101626</td>\n",
       "      <td>0.617809</td>\n",
       "      <td>0.615834</td>\n",
       "      <td>-0.397535</td>\n",
       "      <td>1.824445</td>\n",
       "      <td>0.572186</td>\n",
       "    </tr>\n",
       "    <tr>\n",
       "      <th>1</th>\n",
       "      <td>8.0</td>\n",
       "      <td>99</td>\n",
       "      <td>0.201220</td>\n",
       "      <td>0.590491</td>\n",
       "      <td>1.197815</td>\n",
       "      <td>0.519005</td>\n",
       "      <td>2.087322</td>\n",
       "      <td>0.403547</td>\n",
       "    </tr>\n",
       "    <tr>\n",
       "      <th>2</th>\n",
       "      <td>7.0</td>\n",
       "      <td>148</td>\n",
       "      <td>0.300813</td>\n",
       "      <td>0.573419</td>\n",
       "      <td>0.965194</td>\n",
       "      <td>0.325995</td>\n",
       "      <td>1.871686</td>\n",
       "      <td>0.412947</td>\n",
       "    </tr>\n",
       "    <tr>\n",
       "      <th>3</th>\n",
       "      <td>6.0</td>\n",
       "      <td>197</td>\n",
       "      <td>0.400407</td>\n",
       "      <td>0.557683</td>\n",
       "      <td>0.813199</td>\n",
       "      <td>0.210219</td>\n",
       "      <td>1.595729</td>\n",
       "      <td>0.349328</td>\n",
       "    </tr>\n",
       "    <tr>\n",
       "      <th>4</th>\n",
       "      <td>5.0</td>\n",
       "      <td>247</td>\n",
       "      <td>0.502033</td>\n",
       "      <td>0.543668</td>\n",
       "      <td>0.751770</td>\n",
       "      <td>0.191711</td>\n",
       "      <td>1.411014</td>\n",
       "      <td>0.309225</td>\n",
       "    </tr>\n",
       "    <tr>\n",
       "      <th>5</th>\n",
       "      <td>4.0</td>\n",
       "      <td>296</td>\n",
       "      <td>0.601626</td>\n",
       "      <td>0.531338</td>\n",
       "      <td>0.831543</td>\n",
       "      <td>0.342297</td>\n",
       "      <td>1.451241</td>\n",
       "      <td>0.286144</td>\n",
       "    </tr>\n",
       "    <tr>\n",
       "      <th>6</th>\n",
       "      <td>3.0</td>\n",
       "      <td>345</td>\n",
       "      <td>0.701220</td>\n",
       "      <td>0.510712</td>\n",
       "      <td>0.692398</td>\n",
       "      <td>0.173922</td>\n",
       "      <td>1.309936</td>\n",
       "      <td>0.279379</td>\n",
       "    </tr>\n",
       "    <tr>\n",
       "      <th>7</th>\n",
       "      <td>2.0</td>\n",
       "      <td>394</td>\n",
       "      <td>0.800813</td>\n",
       "      <td>0.493694</td>\n",
       "      <td>0.555487</td>\n",
       "      <td>0.062370</td>\n",
       "      <td>1.140613</td>\n",
       "      <td>0.273152</td>\n",
       "    </tr>\n",
       "    <tr>\n",
       "      <th>8</th>\n",
       "      <td>1.0</td>\n",
       "      <td>443</td>\n",
       "      <td>0.900407</td>\n",
       "      <td>0.470596</td>\n",
       "      <td>0.569055</td>\n",
       "      <td>0.048634</td>\n",
       "      <td>1.135021</td>\n",
       "      <td>0.263306</td>\n",
       "    </tr>\n",
       "    <tr>\n",
       "      <th>9</th>\n",
       "      <td>0.0</td>\n",
       "      <td>492</td>\n",
       "      <td>1.000000</td>\n",
       "      <td>-inf</td>\n",
       "      <td>0.279548</td>\n",
       "      <td>-0.219864</td>\n",
       "      <td>0.825590</td>\n",
       "      <td>0.272441</td>\n",
       "    </tr>\n",
       "  </tbody>\n",
       "</table>\n",
       "</div>"
      ],
      "text/plain": [
       "   bucket  count  fraction  threshold      iroi  iroi_lower  iroi_upper  \\\n",
       "0     9.0     50  0.101626   0.617809  0.615834   -0.397535    1.824445   \n",
       "1     8.0     99  0.201220   0.590491  1.197815    0.519005    2.087322   \n",
       "2     7.0    148  0.300813   0.573419  0.965194    0.325995    1.871686   \n",
       "3     6.0    197  0.400407   0.557683  0.813199    0.210219    1.595729   \n",
       "4     5.0    247  0.502033   0.543668  0.751770    0.191711    1.411014   \n",
       "5     4.0    296  0.601626   0.531338  0.831543    0.342297    1.451241   \n",
       "6     3.0    345  0.701220   0.510712  0.692398    0.173922    1.309936   \n",
       "7     2.0    394  0.800813   0.493694  0.555487    0.062370    1.140613   \n",
       "8     1.0    443  0.900407   0.470596  0.569055    0.048634    1.135021   \n",
       "9     0.0    492  1.000000       -inf  0.279548   -0.219864    0.825590   \n",
       "\n",
       "   iroi_std_error  \n",
       "0        0.572186  \n",
       "1        0.403547  \n",
       "2        0.412947  \n",
       "3        0.349328  \n",
       "4        0.309225  \n",
       "5        0.286144  \n",
       "6        0.279379  \n",
       "7        0.273152  \n",
       "8        0.263306  \n",
       "9        0.272441  "
      ]
     },
     "execution_count": 20,
     "metadata": {},
     "output_type": "execute_result"
    }
   ],
   "source": [
    "df_iroi"
   ]
  },
  {
   "cell_type": "markdown",
   "id": "58b763af",
   "metadata": {},
   "source": [
    "#### Plotting with subplots"
   ]
  },
  {
   "cell_type": "code",
   "execution_count": 21,
   "id": "bffa0b3e",
   "metadata": {},
   "outputs": [
    {
     "name": "stderr",
     "output_type": "stream",
     "text": [
      "No handles with labels found to put in legend.\n"
     ]
    },
    {
     "data": {
      "text/plain": [
       "<AxesSubplot:title={'center':'iROI across % targeted'}, xlabel='% population targeted', ylabel='iROI'>"
      ]
     },
     "execution_count": 21,
     "metadata": {},
     "output_type": "execute_result"
    },
    {
     "data": {
      "image/png": "[encoded data removed]",
      "text/plain": [
       "<Figure size 1296x360 with 2 Axes>"
      ]
     },
     "metadata": {},
     "output_type": "display_data"
    }
   ],
   "source": [
    "sns.set(font_scale=1.1, style='ticks', rc={'figure.figsize':(18, 5)})\n",
    "\n",
    "fig, axes = plt.subplots(1, 2)\n",
    "\n",
    "plot_metric_per_bucket(df_barplot,\n",
    "                       y='iroi',\n",
    "                       bootstrap=True, \n",
    "                       ax=axes[0])\n",
    "    \n",
    "plot_cum_iroi(df_iroi,\n",
    "              bootstrap=True,\n",
    "              ax=axes[1])"
   ]
  },
  {
   "cell_type": "code",
   "execution_count": null,
   "id": "c5ea6686",
   "metadata": {},
   "outputs": [],
   "source": []
  }
 ],
 "metadata": {
  "kernelspec": {
   "display_name": "PySpark",
   "language": "python",
   "name": "pyspark"
  },
  "language_info": {
   "codemirror_mode": {
    "name": "ipython",
    "version": 3
   },
   "file_extension": ".py",
   "mimetype": "text/x-python",
   "name": "python",
   "nbconvert_exporter": "python",
   "pygments_lexer": "ipython3",
   "version": "3.7.7"
  }
 },
 "nbformat": 4,
 "nbformat_minor": 5
}
